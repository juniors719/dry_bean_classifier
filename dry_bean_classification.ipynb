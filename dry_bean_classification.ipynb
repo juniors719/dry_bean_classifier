{
  "cells": [
    {
      "cell_type": "markdown",
      "metadata": {
        "id": "view-in-github",
        "colab_type": "text"
      },
      "source": [
        "<a href=\"https://colab.research.google.com/github/juniors719/dry_bean_classifier/blob/develop/dry_bean_classification.ipynb\" target=\"_parent\"><img src=\"https://colab.research.google.com/assets/colab-badge.svg\" alt=\"Open In Colab\"/></a>"
      ]
    },
    {
      "cell_type": "markdown",
      "source": [
        "# Preparando o ambiente e baixando os dados"
      ],
      "metadata": {
        "id": "mwtezC0lk7UX"
      },
      "id": "mwtezC0lk7UX"
    },
    {
      "cell_type": "markdown",
      "source": [
        "### Instalação das bibliotecas"
      ],
      "metadata": {
        "id": "KOCE_u3lje3V"
      },
      "id": "KOCE_u3lje3V"
    },
    {
      "cell_type": "code",
      "execution_count": 3,
      "id": "6aecc1ed",
      "metadata": {
        "id": "6aecc1ed",
        "outputId": "69a32d4d-ab19-4f41-845c-722ec350d865",
        "colab": {
          "base_uri": "https://localhost:8080/"
        }
      },
      "outputs": [
        {
          "output_type": "stream",
          "name": "stdout",
          "text": [
            "Requirement already satisfied: pandas in /usr/local/lib/python3.11/dist-packages (2.2.2)\n",
            "Requirement already satisfied: matplotlib in /usr/local/lib/python3.11/dist-packages (3.10.0)\n",
            "Requirement already satisfied: openpyxl in /usr/local/lib/python3.11/dist-packages (3.1.5)\n",
            "Requirement already satisfied: numpy>=1.23.2 in /usr/local/lib/python3.11/dist-packages (from pandas) (2.0.2)\n",
            "Requirement already satisfied: python-dateutil>=2.8.2 in /usr/local/lib/python3.11/dist-packages (from pandas) (2.9.0.post0)\n",
            "Requirement already satisfied: pytz>=2020.1 in /usr/local/lib/python3.11/dist-packages (from pandas) (2025.2)\n",
            "Requirement already satisfied: tzdata>=2022.7 in /usr/local/lib/python3.11/dist-packages (from pandas) (2025.2)\n",
            "Requirement already satisfied: contourpy>=1.0.1 in /usr/local/lib/python3.11/dist-packages (from matplotlib) (1.3.2)\n",
            "Requirement already satisfied: cycler>=0.10 in /usr/local/lib/python3.11/dist-packages (from matplotlib) (0.12.1)\n",
            "Requirement already satisfied: fonttools>=4.22.0 in /usr/local/lib/python3.11/dist-packages (from matplotlib) (4.58.0)\n",
            "Requirement already satisfied: kiwisolver>=1.3.1 in /usr/local/lib/python3.11/dist-packages (from matplotlib) (1.4.8)\n",
            "Requirement already satisfied: packaging>=20.0 in /usr/local/lib/python3.11/dist-packages (from matplotlib) (24.2)\n",
            "Requirement already satisfied: pillow>=8 in /usr/local/lib/python3.11/dist-packages (from matplotlib) (11.2.1)\n",
            "Requirement already satisfied: pyparsing>=2.3.1 in /usr/local/lib/python3.11/dist-packages (from matplotlib) (3.2.3)\n",
            "Requirement already satisfied: et-xmlfile in /usr/local/lib/python3.11/dist-packages (from openpyxl) (2.0.0)\n",
            "Requirement already satisfied: six>=1.5 in /usr/local/lib/python3.11/dist-packages (from python-dateutil>=2.8.2->pandas) (1.17.0)\n"
          ]
        }
      ],
      "source": [
        "%pip install pandas matplotlib openpyxl"
      ]
    },
    {
      "cell_type": "markdown",
      "source": [
        "### Importação das biliotecas"
      ],
      "metadata": {
        "id": "y7Ckj8SNjpB5"
      },
      "id": "y7Ckj8SNjpB5"
    },
    {
      "cell_type": "code",
      "execution_count": 54,
      "metadata": {
        "id": "SyeLKkTipUc3"
      },
      "outputs": [],
      "source": [
        "from sklearn.ensemble import RandomForestClassifier\n",
        "from sklearn.svm import SVC\n",
        "from sklearn.neighbors import KNeighborsClassifier\n",
        "from sklearn.linear_model import LogisticRegression\n",
        "from sklearn.multiclass import OneVsRestClassifier\n",
        "from sklearn.preprocessing import StandardScaler\n",
        "from sklearn.tree import DecisionTreeClassifier\n",
        "\n",
        "# Validação Cruzada e Métricas\n",
        "from sklearn.model_selection import cross_val_score, StratifiedKFold, train_test_split\n",
        "from sklearn.metrics import accuracy_score, precision_score, recall_score, f1_score, confusion_matrix, classification_report\n",
        "\n",
        "# Otimização de Hiperparâmetros\n",
        "from sklearn.model_selection import GridSearchCV\n",
        "\n",
        "# Visualização\n",
        "import matplotlib.pyplot as plt\n",
        "import seaborn as sns\n",
        "import numpy as np\n",
        "import pandas as pd"
      ],
      "id": "SyeLKkTipUc3"
    },
    {
      "cell_type": "markdown",
      "source": [
        "# Importação dos dados"
      ],
      "metadata": {
        "id": "3Mer2XwG9HF-"
      },
      "id": "3Mer2XwG9HF-"
    },
    {
      "cell_type": "markdown",
      "source": [
        "### Carregando o conjunto de dados a partir de um arquivo Excel"
      ],
      "metadata": {
        "id": "28WPW5pCjs0n"
      },
      "id": "28WPW5pCjs0n"
    },
    {
      "cell_type": "code",
      "execution_count": 6,
      "id": "39c11255",
      "metadata": {
        "id": "39c11255"
      },
      "outputs": [],
      "source": [
        "df = pd.read_excel(\"https://github.com/juniors719/dry_bean_classifier/raw/refs/heads/main/DryBeanDataset/Dry_Bean_Dataset.xlsx\")"
      ]
    },
    {
      "cell_type": "markdown",
      "source": [
        "O conjunto de dados de feijão seco é carregado diretamente de um arquivo Excel hospedado no GitHub usando a função read_excel do pandas."
      ],
      "metadata": {
        "id": "8N-nwJLi9LFg"
      },
      "id": "8N-nwJLi9LFg"
    },
    {
      "cell_type": "markdown",
      "source": [
        "### Mostrando as 5 primeiras linhas"
      ],
      "metadata": {
        "id": "YUEKEKnej3Gi"
      },
      "id": "YUEKEKnej3Gi"
    },
    {
      "cell_type": "code",
      "execution_count": 7,
      "id": "3b253645",
      "metadata": {
        "id": "3b253645",
        "outputId": "a5a806a0-5ff8-46ce-d684-e975a647feaa",
        "colab": {
          "base_uri": "https://localhost:8080/",
          "height": 206
        }
      },
      "outputs": [
        {
          "output_type": "execute_result",
          "data": {
            "text/plain": [
              "    Area  Perimeter  MajorAxisLength  MinorAxisLength  AspectRation  \\\n",
              "0  28395    610.291       208.178117       173.888747      1.197191   \n",
              "1  28734    638.018       200.524796       182.734419      1.097356   \n",
              "2  29380    624.110       212.826130       175.931143      1.209713   \n",
              "3  30008    645.884       210.557999       182.516516      1.153638   \n",
              "4  30140    620.134       201.847882       190.279279      1.060798   \n",
              "\n",
              "   Eccentricity  ConvexArea  EquivDiameter    Extent  Solidity  roundness  \\\n",
              "0      0.549812       28715     190.141097  0.763923  0.988856   0.958027   \n",
              "1      0.411785       29172     191.272750  0.783968  0.984986   0.887034   \n",
              "2      0.562727       29690     193.410904  0.778113  0.989559   0.947849   \n",
              "3      0.498616       30724     195.467062  0.782681  0.976696   0.903936   \n",
              "4      0.333680       30417     195.896503  0.773098  0.990893   0.984877   \n",
              "\n",
              "   Compactness  ShapeFactor1  ShapeFactor2  ShapeFactor3  ShapeFactor4  Class  \n",
              "0     0.913358      0.007332      0.003147      0.834222      0.998724  SEKER  \n",
              "1     0.953861      0.006979      0.003564      0.909851      0.998430  SEKER  \n",
              "2     0.908774      0.007244      0.003048      0.825871      0.999066  SEKER  \n",
              "3     0.928329      0.007017      0.003215      0.861794      0.994199  SEKER  \n",
              "4     0.970516      0.006697      0.003665      0.941900      0.999166  SEKER  "
            ],
            "text/html": [
              "\n",
              "  <div id=\"df-eefc9c8f-f91e-4bd3-8eb9-cc0bac9f0683\" class=\"colab-df-container\">\n",
              "    <div>\n",
              "<style scoped>\n",
              "    .dataframe tbody tr th:only-of-type {\n",
              "        vertical-align: middle;\n",
              "    }\n",
              "\n",
              "    .dataframe tbody tr th {\n",
              "        vertical-align: top;\n",
              "    }\n",
              "\n",
              "    .dataframe thead th {\n",
              "        text-align: right;\n",
              "    }\n",
              "</style>\n",
              "<table border=\"1\" class=\"dataframe\">\n",
              "  <thead>\n",
              "    <tr style=\"text-align: right;\">\n",
              "      <th></th>\n",
              "      <th>Area</th>\n",
              "      <th>Perimeter</th>\n",
              "      <th>MajorAxisLength</th>\n",
              "      <th>MinorAxisLength</th>\n",
              "      <th>AspectRation</th>\n",
              "      <th>Eccentricity</th>\n",
              "      <th>ConvexArea</th>\n",
              "      <th>EquivDiameter</th>\n",
              "      <th>Extent</th>\n",
              "      <th>Solidity</th>\n",
              "      <th>roundness</th>\n",
              "      <th>Compactness</th>\n",
              "      <th>ShapeFactor1</th>\n",
              "      <th>ShapeFactor2</th>\n",
              "      <th>ShapeFactor3</th>\n",
              "      <th>ShapeFactor4</th>\n",
              "      <th>Class</th>\n",
              "    </tr>\n",
              "  </thead>\n",
              "  <tbody>\n",
              "    <tr>\n",
              "      <th>0</th>\n",
              "      <td>28395</td>\n",
              "      <td>610.291</td>\n",
              "      <td>208.178117</td>\n",
              "      <td>173.888747</td>\n",
              "      <td>1.197191</td>\n",
              "      <td>0.549812</td>\n",
              "      <td>28715</td>\n",
              "      <td>190.141097</td>\n",
              "      <td>0.763923</td>\n",
              "      <td>0.988856</td>\n",
              "      <td>0.958027</td>\n",
              "      <td>0.913358</td>\n",
              "      <td>0.007332</td>\n",
              "      <td>0.003147</td>\n",
              "      <td>0.834222</td>\n",
              "      <td>0.998724</td>\n",
              "      <td>SEKER</td>\n",
              "    </tr>\n",
              "    <tr>\n",
              "      <th>1</th>\n",
              "      <td>28734</td>\n",
              "      <td>638.018</td>\n",
              "      <td>200.524796</td>\n",
              "      <td>182.734419</td>\n",
              "      <td>1.097356</td>\n",
              "      <td>0.411785</td>\n",
              "      <td>29172</td>\n",
              "      <td>191.272750</td>\n",
              "      <td>0.783968</td>\n",
              "      <td>0.984986</td>\n",
              "      <td>0.887034</td>\n",
              "      <td>0.953861</td>\n",
              "      <td>0.006979</td>\n",
              "      <td>0.003564</td>\n",
              "      <td>0.909851</td>\n",
              "      <td>0.998430</td>\n",
              "      <td>SEKER</td>\n",
              "    </tr>\n",
              "    <tr>\n",
              "      <th>2</th>\n",
              "      <td>29380</td>\n",
              "      <td>624.110</td>\n",
              "      <td>212.826130</td>\n",
              "      <td>175.931143</td>\n",
              "      <td>1.209713</td>\n",
              "      <td>0.562727</td>\n",
              "      <td>29690</td>\n",
              "      <td>193.410904</td>\n",
              "      <td>0.778113</td>\n",
              "      <td>0.989559</td>\n",
              "      <td>0.947849</td>\n",
              "      <td>0.908774</td>\n",
              "      <td>0.007244</td>\n",
              "      <td>0.003048</td>\n",
              "      <td>0.825871</td>\n",
              "      <td>0.999066</td>\n",
              "      <td>SEKER</td>\n",
              "    </tr>\n",
              "    <tr>\n",
              "      <th>3</th>\n",
              "      <td>30008</td>\n",
              "      <td>645.884</td>\n",
              "      <td>210.557999</td>\n",
              "      <td>182.516516</td>\n",
              "      <td>1.153638</td>\n",
              "      <td>0.498616</td>\n",
              "      <td>30724</td>\n",
              "      <td>195.467062</td>\n",
              "      <td>0.782681</td>\n",
              "      <td>0.976696</td>\n",
              "      <td>0.903936</td>\n",
              "      <td>0.928329</td>\n",
              "      <td>0.007017</td>\n",
              "      <td>0.003215</td>\n",
              "      <td>0.861794</td>\n",
              "      <td>0.994199</td>\n",
              "      <td>SEKER</td>\n",
              "    </tr>\n",
              "    <tr>\n",
              "      <th>4</th>\n",
              "      <td>30140</td>\n",
              "      <td>620.134</td>\n",
              "      <td>201.847882</td>\n",
              "      <td>190.279279</td>\n",
              "      <td>1.060798</td>\n",
              "      <td>0.333680</td>\n",
              "      <td>30417</td>\n",
              "      <td>195.896503</td>\n",
              "      <td>0.773098</td>\n",
              "      <td>0.990893</td>\n",
              "      <td>0.984877</td>\n",
              "      <td>0.970516</td>\n",
              "      <td>0.006697</td>\n",
              "      <td>0.003665</td>\n",
              "      <td>0.941900</td>\n",
              "      <td>0.999166</td>\n",
              "      <td>SEKER</td>\n",
              "    </tr>\n",
              "  </tbody>\n",
              "</table>\n",
              "</div>\n",
              "    <div class=\"colab-df-buttons\">\n",
              "\n",
              "  <div class=\"colab-df-container\">\n",
              "    <button class=\"colab-df-convert\" onclick=\"convertToInteractive('df-eefc9c8f-f91e-4bd3-8eb9-cc0bac9f0683')\"\n",
              "            title=\"Convert this dataframe to an interactive table.\"\n",
              "            style=\"display:none;\">\n",
              "\n",
              "  <svg xmlns=\"http://www.w3.org/2000/svg\" height=\"24px\" viewBox=\"0 -960 960 960\">\n",
              "    <path d=\"M120-120v-720h720v720H120Zm60-500h600v-160H180v160Zm220 220h160v-160H400v160Zm0 220h160v-160H400v160ZM180-400h160v-160H180v160Zm440 0h160v-160H620v160ZM180-180h160v-160H180v160Zm440 0h160v-160H620v160Z\"/>\n",
              "  </svg>\n",
              "    </button>\n",
              "\n",
              "  <style>\n",
              "    .colab-df-container {\n",
              "      display:flex;\n",
              "      gap: 12px;\n",
              "    }\n",
              "\n",
              "    .colab-df-convert {\n",
              "      background-color: #E8F0FE;\n",
              "      border: none;\n",
              "      border-radius: 50%;\n",
              "      cursor: pointer;\n",
              "      display: none;\n",
              "      fill: #1967D2;\n",
              "      height: 32px;\n",
              "      padding: 0 0 0 0;\n",
              "      width: 32px;\n",
              "    }\n",
              "\n",
              "    .colab-df-convert:hover {\n",
              "      background-color: #E2EBFA;\n",
              "      box-shadow: 0px 1px 2px rgba(60, 64, 67, 0.3), 0px 1px 3px 1px rgba(60, 64, 67, 0.15);\n",
              "      fill: #174EA6;\n",
              "    }\n",
              "\n",
              "    .colab-df-buttons div {\n",
              "      margin-bottom: 4px;\n",
              "    }\n",
              "\n",
              "    [theme=dark] .colab-df-convert {\n",
              "      background-color: #3B4455;\n",
              "      fill: #D2E3FC;\n",
              "    }\n",
              "\n",
              "    [theme=dark] .colab-df-convert:hover {\n",
              "      background-color: #434B5C;\n",
              "      box-shadow: 0px 1px 3px 1px rgba(0, 0, 0, 0.15);\n",
              "      filter: drop-shadow(0px 1px 2px rgba(0, 0, 0, 0.3));\n",
              "      fill: #FFFFFF;\n",
              "    }\n",
              "  </style>\n",
              "\n",
              "    <script>\n",
              "      const buttonEl =\n",
              "        document.querySelector('#df-eefc9c8f-f91e-4bd3-8eb9-cc0bac9f0683 button.colab-df-convert');\n",
              "      buttonEl.style.display =\n",
              "        google.colab.kernel.accessAllowed ? 'block' : 'none';\n",
              "\n",
              "      async function convertToInteractive(key) {\n",
              "        const element = document.querySelector('#df-eefc9c8f-f91e-4bd3-8eb9-cc0bac9f0683');\n",
              "        const dataTable =\n",
              "          await google.colab.kernel.invokeFunction('convertToInteractive',\n",
              "                                                    [key], {});\n",
              "        if (!dataTable) return;\n",
              "\n",
              "        const docLinkHtml = 'Like what you see? Visit the ' +\n",
              "          '<a target=\"_blank\" href=https://colab.research.google.com/notebooks/data_table.ipynb>data table notebook</a>'\n",
              "          + ' to learn more about interactive tables.';\n",
              "        element.innerHTML = '';\n",
              "        dataTable['output_type'] = 'display_data';\n",
              "        await google.colab.output.renderOutput(dataTable, element);\n",
              "        const docLink = document.createElement('div');\n",
              "        docLink.innerHTML = docLinkHtml;\n",
              "        element.appendChild(docLink);\n",
              "      }\n",
              "    </script>\n",
              "  </div>\n",
              "\n",
              "\n",
              "    <div id=\"df-6381606a-8dc0-4fa3-ab98-dbf5885b2da0\">\n",
              "      <button class=\"colab-df-quickchart\" onclick=\"quickchart('df-6381606a-8dc0-4fa3-ab98-dbf5885b2da0')\"\n",
              "                title=\"Suggest charts\"\n",
              "                style=\"display:none;\">\n",
              "\n",
              "<svg xmlns=\"http://www.w3.org/2000/svg\" height=\"24px\"viewBox=\"0 0 24 24\"\n",
              "     width=\"24px\">\n",
              "    <g>\n",
              "        <path d=\"M19 3H5c-1.1 0-2 .9-2 2v14c0 1.1.9 2 2 2h14c1.1 0 2-.9 2-2V5c0-1.1-.9-2-2-2zM9 17H7v-7h2v7zm4 0h-2V7h2v10zm4 0h-2v-4h2v4z\"/>\n",
              "    </g>\n",
              "</svg>\n",
              "      </button>\n",
              "\n",
              "<style>\n",
              "  .colab-df-quickchart {\n",
              "      --bg-color: #E8F0FE;\n",
              "      --fill-color: #1967D2;\n",
              "      --hover-bg-color: #E2EBFA;\n",
              "      --hover-fill-color: #174EA6;\n",
              "      --disabled-fill-color: #AAA;\n",
              "      --disabled-bg-color: #DDD;\n",
              "  }\n",
              "\n",
              "  [theme=dark] .colab-df-quickchart {\n",
              "      --bg-color: #3B4455;\n",
              "      --fill-color: #D2E3FC;\n",
              "      --hover-bg-color: #434B5C;\n",
              "      --hover-fill-color: #FFFFFF;\n",
              "      --disabled-bg-color: #3B4455;\n",
              "      --disabled-fill-color: #666;\n",
              "  }\n",
              "\n",
              "  .colab-df-quickchart {\n",
              "    background-color: var(--bg-color);\n",
              "    border: none;\n",
              "    border-radius: 50%;\n",
              "    cursor: pointer;\n",
              "    display: none;\n",
              "    fill: var(--fill-color);\n",
              "    height: 32px;\n",
              "    padding: 0;\n",
              "    width: 32px;\n",
              "  }\n",
              "\n",
              "  .colab-df-quickchart:hover {\n",
              "    background-color: var(--hover-bg-color);\n",
              "    box-shadow: 0 1px 2px rgba(60, 64, 67, 0.3), 0 1px 3px 1px rgba(60, 64, 67, 0.15);\n",
              "    fill: var(--button-hover-fill-color);\n",
              "  }\n",
              "\n",
              "  .colab-df-quickchart-complete:disabled,\n",
              "  .colab-df-quickchart-complete:disabled:hover {\n",
              "    background-color: var(--disabled-bg-color);\n",
              "    fill: var(--disabled-fill-color);\n",
              "    box-shadow: none;\n",
              "  }\n",
              "\n",
              "  .colab-df-spinner {\n",
              "    border: 2px solid var(--fill-color);\n",
              "    border-color: transparent;\n",
              "    border-bottom-color: var(--fill-color);\n",
              "    animation:\n",
              "      spin 1s steps(1) infinite;\n",
              "  }\n",
              "\n",
              "  @keyframes spin {\n",
              "    0% {\n",
              "      border-color: transparent;\n",
              "      border-bottom-color: var(--fill-color);\n",
              "      border-left-color: var(--fill-color);\n",
              "    }\n",
              "    20% {\n",
              "      border-color: transparent;\n",
              "      border-left-color: var(--fill-color);\n",
              "      border-top-color: var(--fill-color);\n",
              "    }\n",
              "    30% {\n",
              "      border-color: transparent;\n",
              "      border-left-color: var(--fill-color);\n",
              "      border-top-color: var(--fill-color);\n",
              "      border-right-color: var(--fill-color);\n",
              "    }\n",
              "    40% {\n",
              "      border-color: transparent;\n",
              "      border-right-color: var(--fill-color);\n",
              "      border-top-color: var(--fill-color);\n",
              "    }\n",
              "    60% {\n",
              "      border-color: transparent;\n",
              "      border-right-color: var(--fill-color);\n",
              "    }\n",
              "    80% {\n",
              "      border-color: transparent;\n",
              "      border-right-color: var(--fill-color);\n",
              "      border-bottom-color: var(--fill-color);\n",
              "    }\n",
              "    90% {\n",
              "      border-color: transparent;\n",
              "      border-bottom-color: var(--fill-color);\n",
              "    }\n",
              "  }\n",
              "</style>\n",
              "\n",
              "      <script>\n",
              "        async function quickchart(key) {\n",
              "          const quickchartButtonEl =\n",
              "            document.querySelector('#' + key + ' button');\n",
              "          quickchartButtonEl.disabled = true;  // To prevent multiple clicks.\n",
              "          quickchartButtonEl.classList.add('colab-df-spinner');\n",
              "          try {\n",
              "            const charts = await google.colab.kernel.invokeFunction(\n",
              "                'suggestCharts', [key], {});\n",
              "          } catch (error) {\n",
              "            console.error('Error during call to suggestCharts:', error);\n",
              "          }\n",
              "          quickchartButtonEl.classList.remove('colab-df-spinner');\n",
              "          quickchartButtonEl.classList.add('colab-df-quickchart-complete');\n",
              "        }\n",
              "        (() => {\n",
              "          let quickchartButtonEl =\n",
              "            document.querySelector('#df-6381606a-8dc0-4fa3-ab98-dbf5885b2da0 button');\n",
              "          quickchartButtonEl.style.display =\n",
              "            google.colab.kernel.accessAllowed ? 'block' : 'none';\n",
              "        })();\n",
              "      </script>\n",
              "    </div>\n",
              "\n",
              "    </div>\n",
              "  </div>\n"
            ],
            "application/vnd.google.colaboratory.intrinsic+json": {
              "type": "dataframe",
              "variable_name": "df",
              "summary": "{\n  \"name\": \"df\",\n  \"rows\": 13611,\n  \"fields\": [\n    {\n      \"column\": \"Area\",\n      \"properties\": {\n        \"dtype\": \"number\",\n        \"std\": 29324,\n        \"min\": 20420,\n        \"max\": 254616,\n        \"num_unique_values\": 12011,\n        \"samples\": [\n          48012,\n          45550,\n          180089\n        ],\n        \"semantic_type\": \"\",\n        \"description\": \"\"\n      }\n    },\n    {\n      \"column\": \"Perimeter\",\n      \"properties\": {\n        \"dtype\": \"number\",\n        \"std\": 214.28969589196163,\n        \"min\": 524.736,\n        \"max\": 1985.37,\n        \"num_unique_values\": 13416,\n        \"samples\": [\n          699.286,\n          612.78,\n          796.887\n        ],\n        \"semantic_type\": \"\",\n        \"description\": \"\"\n      }\n    },\n    {\n      \"column\": \"MajorAxisLength\",\n      \"properties\": {\n        \"dtype\": \"number\",\n        \"std\": 85.69418595953205,\n        \"min\": 183.6011650038393,\n        \"max\": 738.8601534818813,\n        \"num_unique_values\": 13543,\n        \"samples\": [\n          255.3327746673524,\n          344.0611383445675,\n          257.1596389717501\n        ],\n        \"semantic_type\": \"\",\n        \"description\": \"\"\n      }\n    },\n    {\n      \"column\": \"MinorAxisLength\",\n      \"properties\": {\n        \"dtype\": \"number\",\n        \"std\": 44.97009129455544,\n        \"min\": 122.51265345074418,\n        \"max\": 460.1984968278401,\n        \"num_unique_values\": 13543,\n        \"samples\": [\n          190.54541437313145,\n          229.2631251301869,\n          172.83898706312104\n        ],\n        \"semantic_type\": \"\",\n        \"description\": \"\"\n      }\n    },\n    {\n      \"column\": \"AspectRation\",\n      \"properties\": {\n        \"dtype\": \"number\",\n        \"std\": 0.24667845568492644,\n        \"min\": 1.0248675960667681,\n        \"max\": 2.430306446836626,\n        \"num_unique_values\": 13543,\n        \"samples\": [\n          1.340010073227753,\n          1.5007260245152492,\n          1.4878566655672139\n        ],\n        \"semantic_type\": \"\",\n        \"description\": \"\"\n      }\n    },\n    {\n      \"column\": \"Eccentricity\",\n      \"properties\": {\n        \"dtype\": \"number\",\n        \"std\": 0.09200176320337738,\n        \"min\": 0.21895126335356507,\n        \"max\": 0.9114229684680053,\n        \"num_unique_values\": 13543,\n        \"samples\": [\n          0.6656511586178118,\n          0.7456443389072084,\n          0.7404533534333329\n        ],\n        \"semantic_type\": \"\",\n        \"description\": \"\"\n      }\n    },\n    {\n      \"column\": \"ConvexArea\",\n      \"properties\": {\n        \"dtype\": \"number\",\n        \"std\": 29774,\n        \"min\": 20684,\n        \"max\": 263261,\n        \"num_unique_values\": 12066,\n        \"samples\": [\n          43064,\n          28214,\n          80312\n        ],\n        \"semantic_type\": \"\",\n        \"description\": \"\"\n      }\n    },\n    {\n      \"column\": \"EquivDiameter\",\n      \"properties\": {\n        \"dtype\": \"number\",\n        \"std\": 59.17712014913523,\n        \"min\": 161.24376423134018,\n        \"max\": 569.3743583287609,\n        \"num_unique_values\": 12011,\n        \"samples\": [\n          247.24638929987356,\n          240.8237140787565,\n          478.8490747321234\n        ],\n        \"semantic_type\": \"\",\n        \"description\": \"\"\n      }\n    },\n    {\n      \"column\": \"Extent\",\n      \"properties\": {\n        \"dtype\": \"number\",\n        \"std\": 0.04908636684603891,\n        \"min\": 0.55531471681117,\n        \"max\": 0.8661946405648266,\n        \"num_unique_values\": 13535,\n        \"samples\": [\n          0.7530126289405187,\n          0.8139035250909178,\n          0.7104758449098072\n        ],\n        \"semantic_type\": \"\",\n        \"description\": \"\"\n      }\n    },\n    {\n      \"column\": \"Solidity\",\n      \"properties\": {\n        \"dtype\": \"number\",\n        \"std\": 0.004660379163490256,\n        \"min\": 0.9192461570857022,\n        \"max\": 0.9946774999456888,\n        \"num_unique_values\": 13526,\n        \"samples\": [\n          0.9774241582958962,\n          0.987095531587057,\n          0.9895255844676685\n        ],\n        \"semantic_type\": \"\",\n        \"description\": \"\"\n      }\n    },\n    {\n      \"column\": \"roundness\",\n      \"properties\": {\n        \"dtype\": \"number\",\n        \"std\": 0.05951988794823942,\n        \"min\": 0.4896182562412148,\n        \"max\": 0.9906853996160323,\n        \"num_unique_values\": 13543,\n        \"samples\": [\n          0.9454820303039476,\n          0.8617958533455987,\n          0.8958597769683712\n        ],\n        \"semantic_type\": \"\",\n        \"description\": \"\"\n      }\n    },\n    {\n      \"column\": \"Compactness\",\n      \"properties\": {\n        \"dtype\": \"number\",\n        \"std\": 0.06171346312041536,\n        \"min\": 0.6405767589768725,\n        \"max\": 0.9873029693778109,\n        \"num_unique_values\": 13543,\n        \"samples\": [\n          0.8634177095356073,\n          0.8100850684192233,\n          0.8192607945820544\n        ],\n        \"semantic_type\": \"\",\n        \"description\": \"\"\n      }\n    },\n    {\n      \"column\": \"ShapeFactor1\",\n      \"properties\": {\n        \"dtype\": \"number\",\n        \"std\": 0.0011279982276085,\n        \"min\": 0.0027780126683855494,\n        \"max\": 0.010451169324378654,\n        \"num_unique_values\": 13543,\n        \"samples\": [\n          0.0066890069859413285,\n          0.005639144745293093,\n          0.007376714350470443\n        ],\n        \"semantic_type\": \"\",\n        \"description\": \"\"\n      }\n    },\n    {\n      \"column\": \"ShapeFactor2\",\n      \"properties\": {\n        \"dtype\": \"number\",\n        \"std\": 0.0005958748567323859,\n        \"min\": 0.0005641690180332927,\n        \"max\": 0.0036649719644516834,\n        \"num_unique_values\": 13543,\n        \"samples\": [\n          0.0022931117575674892,\n          0.0014980127646746849,\n          0.0020498940680965883\n        ],\n        \"semantic_type\": \"\",\n        \"description\": \"\"\n      }\n    },\n    {\n      \"column\": \"ShapeFactor3\",\n      \"properties\": {\n        \"dtype\": \"number\",\n        \"std\": 0.09899615048070137,\n        \"min\": 0.41033858414131424,\n        \"max\": 0.9747671533422431,\n        \"num_unique_values\": 13543,\n        \"samples\": [\n          0.7454901411397143,\n          0.6562378180757779,\n          0.671188249539219\n        ],\n        \"semantic_type\": \"\",\n        \"description\": \"\"\n      }\n    },\n    {\n      \"column\": \"ShapeFactor4\",\n      \"properties\": {\n        \"dtype\": \"number\",\n        \"std\": 0.004366457748727995,\n        \"min\": 0.9476874027098624,\n        \"max\": 0.9997325300471389,\n        \"num_unique_values\": 13543,\n        \"samples\": [\n          0.9989642986191964,\n          0.9848331718574236,\n          0.9986319109273175\n        ],\n        \"semantic_type\": \"\",\n        \"description\": \"\"\n      }\n    },\n    {\n      \"column\": \"Class\",\n      \"properties\": {\n        \"dtype\": \"category\",\n        \"num_unique_values\": 7,\n        \"samples\": [\n          \"SEKER\",\n          \"BARBUNYA\",\n          \"SIRA\"\n        ],\n        \"semantic_type\": \"\",\n        \"description\": \"\"\n      }\n    }\n  ]\n}"
            }
          },
          "metadata": {},
          "execution_count": 7
        }
      ],
      "source": [
        "df.head()"
      ]
    },
    {
      "cell_type": "markdown",
      "source": [
        "O método `head()` foi utilizado para visualizar as primeiras 5 linhas do DataFrame. Isso ajuda a obter uma visão inicial dos dados, incluindo as colunas e alguns valores de amostra."
      ],
      "metadata": {
        "id": "7s4RgqrM9RE4"
      },
      "id": "7s4RgqrM9RE4"
    },
    {
      "cell_type": "markdown",
      "source": [
        "### Informações do dataset"
      ],
      "metadata": {
        "id": "y-55D8ovkKXk"
      },
      "id": "y-55D8ovkKXk"
    },
    {
      "cell_type": "code",
      "execution_count": 8,
      "id": "f22d3fac",
      "metadata": {
        "id": "f22d3fac",
        "outputId": "c732af96-32ea-4a87-cce2-d9637647b36a",
        "colab": {
          "base_uri": "https://localhost:8080/"
        }
      },
      "outputs": [
        {
          "output_type": "stream",
          "name": "stdout",
          "text": [
            "<class 'pandas.core.frame.DataFrame'>\n",
            "RangeIndex: 13611 entries, 0 to 13610\n",
            "Data columns (total 17 columns):\n",
            " #   Column           Non-Null Count  Dtype  \n",
            "---  ------           --------------  -----  \n",
            " 0   Area             13611 non-null  int64  \n",
            " 1   Perimeter        13611 non-null  float64\n",
            " 2   MajorAxisLength  13611 non-null  float64\n",
            " 3   MinorAxisLength  13611 non-null  float64\n",
            " 4   AspectRation     13611 non-null  float64\n",
            " 5   Eccentricity     13611 non-null  float64\n",
            " 6   ConvexArea       13611 non-null  int64  \n",
            " 7   EquivDiameter    13611 non-null  float64\n",
            " 8   Extent           13611 non-null  float64\n",
            " 9   Solidity         13611 non-null  float64\n",
            " 10  roundness        13611 non-null  float64\n",
            " 11  Compactness      13611 non-null  float64\n",
            " 12  ShapeFactor1     13611 non-null  float64\n",
            " 13  ShapeFactor2     13611 non-null  float64\n",
            " 14  ShapeFactor3     13611 non-null  float64\n",
            " 15  ShapeFactor4     13611 non-null  float64\n",
            " 16  Class            13611 non-null  object \n",
            "dtypes: float64(14), int64(2), object(1)\n",
            "memory usage: 1.8+ MB\n"
          ]
        }
      ],
      "source": [
        "df.info()"
      ]
    },
    {
      "cell_type": "markdown",
      "source": [
        "O método `describe()` é utilizado para gerar estatísticas descritivas, como a média, desvio padrão, valores mínimo e máximo, e os quartis das colunas numéricas do DataFrame."
      ],
      "metadata": {
        "id": "v1vwnjcr9X4f"
      },
      "id": "v1vwnjcr9X4f"
    },
    {
      "cell_type": "markdown",
      "source": [
        "### Estatísticas descritivas"
      ],
      "metadata": {
        "id": "FtNx8c-akewb"
      },
      "id": "FtNx8c-akewb"
    },
    {
      "cell_type": "code",
      "execution_count": 9,
      "id": "a05f1aaf",
      "metadata": {
        "id": "a05f1aaf",
        "outputId": "22ef1844-ed41-473b-f226-3882d3e74e3c",
        "colab": {
          "base_uri": "https://localhost:8080/",
          "height": 320
        }
      },
      "outputs": [
        {
          "output_type": "execute_result",
          "data": {
            "text/plain": [
              "                Area     Perimeter  MajorAxisLength  MinorAxisLength  \\\n",
              "count   13611.000000  13611.000000     13611.000000     13611.000000   \n",
              "mean    53048.284549    855.283459       320.141867       202.270714   \n",
              "std     29324.095717    214.289696        85.694186        44.970091   \n",
              "min     20420.000000    524.736000       183.601165       122.512653   \n",
              "25%     36328.000000    703.523500       253.303633       175.848170   \n",
              "50%     44652.000000    794.941000       296.883367       192.431733   \n",
              "75%     61332.000000    977.213000       376.495012       217.031741   \n",
              "max    254616.000000   1985.370000       738.860153       460.198497   \n",
              "\n",
              "       AspectRation  Eccentricity     ConvexArea  EquivDiameter        Extent  \\\n",
              "count  13611.000000  13611.000000   13611.000000   13611.000000  13611.000000   \n",
              "mean       1.583242      0.750895   53768.200206     253.064220      0.749733   \n",
              "std        0.246678      0.092002   29774.915817      59.177120      0.049086   \n",
              "min        1.024868      0.218951   20684.000000     161.243764      0.555315   \n",
              "25%        1.432307      0.715928   36714.500000     215.068003      0.718634   \n",
              "50%        1.551124      0.764441   45178.000000     238.438026      0.759859   \n",
              "75%        1.707109      0.810466   62294.000000     279.446467      0.786851   \n",
              "max        2.430306      0.911423  263261.000000     569.374358      0.866195   \n",
              "\n",
              "           Solidity     roundness   Compactness  ShapeFactor1  ShapeFactor2  \\\n",
              "count  13611.000000  13611.000000  13611.000000  13611.000000  13611.000000   \n",
              "mean       0.987143      0.873282      0.799864      0.006564      0.001716   \n",
              "std        0.004660      0.059520      0.061713      0.001128      0.000596   \n",
              "min        0.919246      0.489618      0.640577      0.002778      0.000564   \n",
              "25%        0.985670      0.832096      0.762469      0.005900      0.001154   \n",
              "50%        0.988283      0.883157      0.801277      0.006645      0.001694   \n",
              "75%        0.990013      0.916869      0.834270      0.007271      0.002170   \n",
              "max        0.994677      0.990685      0.987303      0.010451      0.003665   \n",
              "\n",
              "       ShapeFactor3  ShapeFactor4  \n",
              "count  13611.000000  13611.000000  \n",
              "mean       0.643590      0.995063  \n",
              "std        0.098996      0.004366  \n",
              "min        0.410339      0.947687  \n",
              "25%        0.581359      0.993703  \n",
              "50%        0.642044      0.996386  \n",
              "75%        0.696006      0.997883  \n",
              "max        0.974767      0.999733  "
            ],
            "text/html": [
              "\n",
              "  <div id=\"df-85863048-0bb9-4643-98d1-0e3d727568ae\" class=\"colab-df-container\">\n",
              "    <div>\n",
              "<style scoped>\n",
              "    .dataframe tbody tr th:only-of-type {\n",
              "        vertical-align: middle;\n",
              "    }\n",
              "\n",
              "    .dataframe tbody tr th {\n",
              "        vertical-align: top;\n",
              "    }\n",
              "\n",
              "    .dataframe thead th {\n",
              "        text-align: right;\n",
              "    }\n",
              "</style>\n",
              "<table border=\"1\" class=\"dataframe\">\n",
              "  <thead>\n",
              "    <tr style=\"text-align: right;\">\n",
              "      <th></th>\n",
              "      <th>Area</th>\n",
              "      <th>Perimeter</th>\n",
              "      <th>MajorAxisLength</th>\n",
              "      <th>MinorAxisLength</th>\n",
              "      <th>AspectRation</th>\n",
              "      <th>Eccentricity</th>\n",
              "      <th>ConvexArea</th>\n",
              "      <th>EquivDiameter</th>\n",
              "      <th>Extent</th>\n",
              "      <th>Solidity</th>\n",
              "      <th>roundness</th>\n",
              "      <th>Compactness</th>\n",
              "      <th>ShapeFactor1</th>\n",
              "      <th>ShapeFactor2</th>\n",
              "      <th>ShapeFactor3</th>\n",
              "      <th>ShapeFactor4</th>\n",
              "    </tr>\n",
              "  </thead>\n",
              "  <tbody>\n",
              "    <tr>\n",
              "      <th>count</th>\n",
              "      <td>13611.000000</td>\n",
              "      <td>13611.000000</td>\n",
              "      <td>13611.000000</td>\n",
              "      <td>13611.000000</td>\n",
              "      <td>13611.000000</td>\n",
              "      <td>13611.000000</td>\n",
              "      <td>13611.000000</td>\n",
              "      <td>13611.000000</td>\n",
              "      <td>13611.000000</td>\n",
              "      <td>13611.000000</td>\n",
              "      <td>13611.000000</td>\n",
              "      <td>13611.000000</td>\n",
              "      <td>13611.000000</td>\n",
              "      <td>13611.000000</td>\n",
              "      <td>13611.000000</td>\n",
              "      <td>13611.000000</td>\n",
              "    </tr>\n",
              "    <tr>\n",
              "      <th>mean</th>\n",
              "      <td>53048.284549</td>\n",
              "      <td>855.283459</td>\n",
              "      <td>320.141867</td>\n",
              "      <td>202.270714</td>\n",
              "      <td>1.583242</td>\n",
              "      <td>0.750895</td>\n",
              "      <td>53768.200206</td>\n",
              "      <td>253.064220</td>\n",
              "      <td>0.749733</td>\n",
              "      <td>0.987143</td>\n",
              "      <td>0.873282</td>\n",
              "      <td>0.799864</td>\n",
              "      <td>0.006564</td>\n",
              "      <td>0.001716</td>\n",
              "      <td>0.643590</td>\n",
              "      <td>0.995063</td>\n",
              "    </tr>\n",
              "    <tr>\n",
              "      <th>std</th>\n",
              "      <td>29324.095717</td>\n",
              "      <td>214.289696</td>\n",
              "      <td>85.694186</td>\n",
              "      <td>44.970091</td>\n",
              "      <td>0.246678</td>\n",
              "      <td>0.092002</td>\n",
              "      <td>29774.915817</td>\n",
              "      <td>59.177120</td>\n",
              "      <td>0.049086</td>\n",
              "      <td>0.004660</td>\n",
              "      <td>0.059520</td>\n",
              "      <td>0.061713</td>\n",
              "      <td>0.001128</td>\n",
              "      <td>0.000596</td>\n",
              "      <td>0.098996</td>\n",
              "      <td>0.004366</td>\n",
              "    </tr>\n",
              "    <tr>\n",
              "      <th>min</th>\n",
              "      <td>20420.000000</td>\n",
              "      <td>524.736000</td>\n",
              "      <td>183.601165</td>\n",
              "      <td>122.512653</td>\n",
              "      <td>1.024868</td>\n",
              "      <td>0.218951</td>\n",
              "      <td>20684.000000</td>\n",
              "      <td>161.243764</td>\n",
              "      <td>0.555315</td>\n",
              "      <td>0.919246</td>\n",
              "      <td>0.489618</td>\n",
              "      <td>0.640577</td>\n",
              "      <td>0.002778</td>\n",
              "      <td>0.000564</td>\n",
              "      <td>0.410339</td>\n",
              "      <td>0.947687</td>\n",
              "    </tr>\n",
              "    <tr>\n",
              "      <th>25%</th>\n",
              "      <td>36328.000000</td>\n",
              "      <td>703.523500</td>\n",
              "      <td>253.303633</td>\n",
              "      <td>175.848170</td>\n",
              "      <td>1.432307</td>\n",
              "      <td>0.715928</td>\n",
              "      <td>36714.500000</td>\n",
              "      <td>215.068003</td>\n",
              "      <td>0.718634</td>\n",
              "      <td>0.985670</td>\n",
              "      <td>0.832096</td>\n",
              "      <td>0.762469</td>\n",
              "      <td>0.005900</td>\n",
              "      <td>0.001154</td>\n",
              "      <td>0.581359</td>\n",
              "      <td>0.993703</td>\n",
              "    </tr>\n",
              "    <tr>\n",
              "      <th>50%</th>\n",
              "      <td>44652.000000</td>\n",
              "      <td>794.941000</td>\n",
              "      <td>296.883367</td>\n",
              "      <td>192.431733</td>\n",
              "      <td>1.551124</td>\n",
              "      <td>0.764441</td>\n",
              "      <td>45178.000000</td>\n",
              "      <td>238.438026</td>\n",
              "      <td>0.759859</td>\n",
              "      <td>0.988283</td>\n",
              "      <td>0.883157</td>\n",
              "      <td>0.801277</td>\n",
              "      <td>0.006645</td>\n",
              "      <td>0.001694</td>\n",
              "      <td>0.642044</td>\n",
              "      <td>0.996386</td>\n",
              "    </tr>\n",
              "    <tr>\n",
              "      <th>75%</th>\n",
              "      <td>61332.000000</td>\n",
              "      <td>977.213000</td>\n",
              "      <td>376.495012</td>\n",
              "      <td>217.031741</td>\n",
              "      <td>1.707109</td>\n",
              "      <td>0.810466</td>\n",
              "      <td>62294.000000</td>\n",
              "      <td>279.446467</td>\n",
              "      <td>0.786851</td>\n",
              "      <td>0.990013</td>\n",
              "      <td>0.916869</td>\n",
              "      <td>0.834270</td>\n",
              "      <td>0.007271</td>\n",
              "      <td>0.002170</td>\n",
              "      <td>0.696006</td>\n",
              "      <td>0.997883</td>\n",
              "    </tr>\n",
              "    <tr>\n",
              "      <th>max</th>\n",
              "      <td>254616.000000</td>\n",
              "      <td>1985.370000</td>\n",
              "      <td>738.860153</td>\n",
              "      <td>460.198497</td>\n",
              "      <td>2.430306</td>\n",
              "      <td>0.911423</td>\n",
              "      <td>263261.000000</td>\n",
              "      <td>569.374358</td>\n",
              "      <td>0.866195</td>\n",
              "      <td>0.994677</td>\n",
              "      <td>0.990685</td>\n",
              "      <td>0.987303</td>\n",
              "      <td>0.010451</td>\n",
              "      <td>0.003665</td>\n",
              "      <td>0.974767</td>\n",
              "      <td>0.999733</td>\n",
              "    </tr>\n",
              "  </tbody>\n",
              "</table>\n",
              "</div>\n",
              "    <div class=\"colab-df-buttons\">\n",
              "\n",
              "  <div class=\"colab-df-container\">\n",
              "    <button class=\"colab-df-convert\" onclick=\"convertToInteractive('df-85863048-0bb9-4643-98d1-0e3d727568ae')\"\n",
              "            title=\"Convert this dataframe to an interactive table.\"\n",
              "            style=\"display:none;\">\n",
              "\n",
              "  <svg xmlns=\"http://www.w3.org/2000/svg\" height=\"24px\" viewBox=\"0 -960 960 960\">\n",
              "    <path d=\"M120-120v-720h720v720H120Zm60-500h600v-160H180v160Zm220 220h160v-160H400v160Zm0 220h160v-160H400v160ZM180-400h160v-160H180v160Zm440 0h160v-160H620v160ZM180-180h160v-160H180v160Zm440 0h160v-160H620v160Z\"/>\n",
              "  </svg>\n",
              "    </button>\n",
              "\n",
              "  <style>\n",
              "    .colab-df-container {\n",
              "      display:flex;\n",
              "      gap: 12px;\n",
              "    }\n",
              "\n",
              "    .colab-df-convert {\n",
              "      background-color: #E8F0FE;\n",
              "      border: none;\n",
              "      border-radius: 50%;\n",
              "      cursor: pointer;\n",
              "      display: none;\n",
              "      fill: #1967D2;\n",
              "      height: 32px;\n",
              "      padding: 0 0 0 0;\n",
              "      width: 32px;\n",
              "    }\n",
              "\n",
              "    .colab-df-convert:hover {\n",
              "      background-color: #E2EBFA;\n",
              "      box-shadow: 0px 1px 2px rgba(60, 64, 67, 0.3), 0px 1px 3px 1px rgba(60, 64, 67, 0.15);\n",
              "      fill: #174EA6;\n",
              "    }\n",
              "\n",
              "    .colab-df-buttons div {\n",
              "      margin-bottom: 4px;\n",
              "    }\n",
              "\n",
              "    [theme=dark] .colab-df-convert {\n",
              "      background-color: #3B4455;\n",
              "      fill: #D2E3FC;\n",
              "    }\n",
              "\n",
              "    [theme=dark] .colab-df-convert:hover {\n",
              "      background-color: #434B5C;\n",
              "      box-shadow: 0px 1px 3px 1px rgba(0, 0, 0, 0.15);\n",
              "      filter: drop-shadow(0px 1px 2px rgba(0, 0, 0, 0.3));\n",
              "      fill: #FFFFFF;\n",
              "    }\n",
              "  </style>\n",
              "\n",
              "    <script>\n",
              "      const buttonEl =\n",
              "        document.querySelector('#df-85863048-0bb9-4643-98d1-0e3d727568ae button.colab-df-convert');\n",
              "      buttonEl.style.display =\n",
              "        google.colab.kernel.accessAllowed ? 'block' : 'none';\n",
              "\n",
              "      async function convertToInteractive(key) {\n",
              "        const element = document.querySelector('#df-85863048-0bb9-4643-98d1-0e3d727568ae');\n",
              "        const dataTable =\n",
              "          await google.colab.kernel.invokeFunction('convertToInteractive',\n",
              "                                                    [key], {});\n",
              "        if (!dataTable) return;\n",
              "\n",
              "        const docLinkHtml = 'Like what you see? Visit the ' +\n",
              "          '<a target=\"_blank\" href=https://colab.research.google.com/notebooks/data_table.ipynb>data table notebook</a>'\n",
              "          + ' to learn more about interactive tables.';\n",
              "        element.innerHTML = '';\n",
              "        dataTable['output_type'] = 'display_data';\n",
              "        await google.colab.output.renderOutput(dataTable, element);\n",
              "        const docLink = document.createElement('div');\n",
              "        docLink.innerHTML = docLinkHtml;\n",
              "        element.appendChild(docLink);\n",
              "      }\n",
              "    </script>\n",
              "  </div>\n",
              "\n",
              "\n",
              "    <div id=\"df-8c8f9fbf-788b-47a0-be64-d74a8c616d76\">\n",
              "      <button class=\"colab-df-quickchart\" onclick=\"quickchart('df-8c8f9fbf-788b-47a0-be64-d74a8c616d76')\"\n",
              "                title=\"Suggest charts\"\n",
              "                style=\"display:none;\">\n",
              "\n",
              "<svg xmlns=\"http://www.w3.org/2000/svg\" height=\"24px\"viewBox=\"0 0 24 24\"\n",
              "     width=\"24px\">\n",
              "    <g>\n",
              "        <path d=\"M19 3H5c-1.1 0-2 .9-2 2v14c0 1.1.9 2 2 2h14c1.1 0 2-.9 2-2V5c0-1.1-.9-2-2-2zM9 17H7v-7h2v7zm4 0h-2V7h2v10zm4 0h-2v-4h2v4z\"/>\n",
              "    </g>\n",
              "</svg>\n",
              "      </button>\n",
              "\n",
              "<style>\n",
              "  .colab-df-quickchart {\n",
              "      --bg-color: #E8F0FE;\n",
              "      --fill-color: #1967D2;\n",
              "      --hover-bg-color: #E2EBFA;\n",
              "      --hover-fill-color: #174EA6;\n",
              "      --disabled-fill-color: #AAA;\n",
              "      --disabled-bg-color: #DDD;\n",
              "  }\n",
              "\n",
              "  [theme=dark] .colab-df-quickchart {\n",
              "      --bg-color: #3B4455;\n",
              "      --fill-color: #D2E3FC;\n",
              "      --hover-bg-color: #434B5C;\n",
              "      --hover-fill-color: #FFFFFF;\n",
              "      --disabled-bg-color: #3B4455;\n",
              "      --disabled-fill-color: #666;\n",
              "  }\n",
              "\n",
              "  .colab-df-quickchart {\n",
              "    background-color: var(--bg-color);\n",
              "    border: none;\n",
              "    border-radius: 50%;\n",
              "    cursor: pointer;\n",
              "    display: none;\n",
              "    fill: var(--fill-color);\n",
              "    height: 32px;\n",
              "    padding: 0;\n",
              "    width: 32px;\n",
              "  }\n",
              "\n",
              "  .colab-df-quickchart:hover {\n",
              "    background-color: var(--hover-bg-color);\n",
              "    box-shadow: 0 1px 2px rgba(60, 64, 67, 0.3), 0 1px 3px 1px rgba(60, 64, 67, 0.15);\n",
              "    fill: var(--button-hover-fill-color);\n",
              "  }\n",
              "\n",
              "  .colab-df-quickchart-complete:disabled,\n",
              "  .colab-df-quickchart-complete:disabled:hover {\n",
              "    background-color: var(--disabled-bg-color);\n",
              "    fill: var(--disabled-fill-color);\n",
              "    box-shadow: none;\n",
              "  }\n",
              "\n",
              "  .colab-df-spinner {\n",
              "    border: 2px solid var(--fill-color);\n",
              "    border-color: transparent;\n",
              "    border-bottom-color: var(--fill-color);\n",
              "    animation:\n",
              "      spin 1s steps(1) infinite;\n",
              "  }\n",
              "\n",
              "  @keyframes spin {\n",
              "    0% {\n",
              "      border-color: transparent;\n",
              "      border-bottom-color: var(--fill-color);\n",
              "      border-left-color: var(--fill-color);\n",
              "    }\n",
              "    20% {\n",
              "      border-color: transparent;\n",
              "      border-left-color: var(--fill-color);\n",
              "      border-top-color: var(--fill-color);\n",
              "    }\n",
              "    30% {\n",
              "      border-color: transparent;\n",
              "      border-left-color: var(--fill-color);\n",
              "      border-top-color: var(--fill-color);\n",
              "      border-right-color: var(--fill-color);\n",
              "    }\n",
              "    40% {\n",
              "      border-color: transparent;\n",
              "      border-right-color: var(--fill-color);\n",
              "      border-top-color: var(--fill-color);\n",
              "    }\n",
              "    60% {\n",
              "      border-color: transparent;\n",
              "      border-right-color: var(--fill-color);\n",
              "    }\n",
              "    80% {\n",
              "      border-color: transparent;\n",
              "      border-right-color: var(--fill-color);\n",
              "      border-bottom-color: var(--fill-color);\n",
              "    }\n",
              "    90% {\n",
              "      border-color: transparent;\n",
              "      border-bottom-color: var(--fill-color);\n",
              "    }\n",
              "  }\n",
              "</style>\n",
              "\n",
              "      <script>\n",
              "        async function quickchart(key) {\n",
              "          const quickchartButtonEl =\n",
              "            document.querySelector('#' + key + ' button');\n",
              "          quickchartButtonEl.disabled = true;  // To prevent multiple clicks.\n",
              "          quickchartButtonEl.classList.add('colab-df-spinner');\n",
              "          try {\n",
              "            const charts = await google.colab.kernel.invokeFunction(\n",
              "                'suggestCharts', [key], {});\n",
              "          } catch (error) {\n",
              "            console.error('Error during call to suggestCharts:', error);\n",
              "          }\n",
              "          quickchartButtonEl.classList.remove('colab-df-spinner');\n",
              "          quickchartButtonEl.classList.add('colab-df-quickchart-complete');\n",
              "        }\n",
              "        (() => {\n",
              "          let quickchartButtonEl =\n",
              "            document.querySelector('#df-8c8f9fbf-788b-47a0-be64-d74a8c616d76 button');\n",
              "          quickchartButtonEl.style.display =\n",
              "            google.colab.kernel.accessAllowed ? 'block' : 'none';\n",
              "        })();\n",
              "      </script>\n",
              "    </div>\n",
              "\n",
              "    </div>\n",
              "  </div>\n"
            ],
            "application/vnd.google.colaboratory.intrinsic+json": {
              "type": "dataframe",
              "summary": "{\n  \"name\": \"df\",\n  \"rows\": 8,\n  \"fields\": [\n    {\n      \"column\": \"Area\",\n      \"properties\": {\n        \"dtype\": \"number\",\n        \"std\": 78596.68016115954,\n        \"min\": 13611.0,\n        \"max\": 254616.0,\n        \"num_unique_values\": 8,\n        \"samples\": [\n          53048.284549261625,\n          44652.0,\n          13611.0\n        ],\n        \"semantic_type\": \"\",\n        \"description\": \"\"\n      }\n    },\n    {\n      \"column\": \"Perimeter\",\n      \"properties\": {\n        \"dtype\": \"number\",\n        \"std\": 4535.414873496133,\n        \"min\": 214.28969589196163,\n        \"max\": 13611.0,\n        \"num_unique_values\": 8,\n        \"samples\": [\n          855.283458599662,\n          794.9409999999999,\n          13611.0\n        ],\n        \"semantic_type\": \"\",\n        \"description\": \"\"\n      }\n    },\n    {\n      \"column\": \"MajorAxisLength\",\n      \"properties\": {\n        \"dtype\": \"number\",\n        \"std\": 4702.228457343623,\n        \"min\": 85.69418595953205,\n        \"max\": 13611.0,\n        \"num_unique_values\": 8,\n        \"samples\": [\n          320.1418673032454,\n          296.88336688673496,\n          13611.0\n        ],\n        \"semantic_type\": \"\",\n        \"description\": \"\"\n      }\n    },\n    {\n      \"column\": \"MinorAxisLength\",\n      \"properties\": {\n        \"dtype\": \"number\",\n        \"std\": 4742.219633432564,\n        \"min\": 44.97009129455544,\n        \"max\": 13611.0,\n        \"num_unique_values\": 8,\n        \"samples\": [\n          202.2707140825082,\n          192.43173331431822,\n          13611.0\n        ],\n        \"semantic_type\": \"\",\n        \"description\": \"\"\n      }\n    },\n    {\n      \"column\": \"AspectRation\",\n      \"properties\": {\n        \"dtype\": \"number\",\n        \"std\": 4811.711393542062,\n        \"min\": 0.24667845568492644,\n        \"max\": 13611.0,\n        \"num_unique_values\": 8,\n        \"samples\": [\n          1.5832419790174213,\n          1.5511236655616438,\n          13611.0\n        ],\n        \"semantic_type\": \"\",\n        \"description\": \"\"\n      }\n    },\n    {\n      \"column\": \"Eccentricity\",\n      \"properties\": {\n        \"dtype\": \"number\",\n        \"std\": 4811.9998385291765,\n        \"min\": 0.09200176320337738,\n        \"max\": 13611.0,\n        \"num_unique_values\": 8,\n        \"samples\": [\n          0.7508949293727165,\n          0.7644408063975098,\n          13611.0\n        ],\n        \"semantic_type\": \"\",\n        \"description\": \"\"\n      }\n    },\n    {\n      \"column\": \"ConvexArea\",\n      \"properties\": {\n        \"dtype\": \"number\",\n        \"std\": 81482.62969446386,\n        \"min\": 13611.0,\n        \"max\": 263261.0,\n        \"num_unique_values\": 8,\n        \"samples\": [\n          53768.20020571596,\n          45178.0,\n          13611.0\n        ],\n        \"semantic_type\": \"\",\n        \"description\": \"\"\n      }\n    },\n    {\n      \"column\": \"EquivDiameter\",\n      \"properties\": {\n        \"dtype\": \"number\",\n        \"std\": 4724.76757746259,\n        \"min\": 59.17712014913523,\n        \"max\": 13611.0,\n        \"num_unique_values\": 8,\n        \"samples\": [\n          253.064219924914,\n          238.4380258086249,\n          13611.0\n        ],\n        \"semantic_type\": \"\",\n        \"description\": \"\"\n      }\n    },\n    {\n      \"column\": \"Extent\",\n      \"properties\": {\n        \"dtype\": \"number\",\n        \"std\": 4811.9886455443,\n        \"min\": 0.04908636684603891,\n        \"max\": 13611.0,\n        \"num_unique_values\": 8,\n        \"samples\": [\n          0.7497327873591233,\n          0.7598589479870702,\n          13611.0\n        ],\n        \"semantic_type\": \"\",\n        \"description\": \"\"\n      }\n    },\n    {\n      \"column\": \"Solidity\",\n      \"properties\": {\n        \"dtype\": \"number\",\n        \"std\": 4811.918747182596,\n        \"min\": 0.004660379163490256,\n        \"max\": 13611.0,\n        \"num_unique_values\": 8,\n        \"samples\": [\n          0.9871428435681517,\n          0.9882829984991706,\n          13611.0\n        ],\n        \"semantic_type\": \"\",\n        \"description\": \"\"\n      }\n    },\n    {\n      \"column\": \"roundness\",\n      \"properties\": {\n        \"dtype\": \"number\",\n        \"std\": 4811.960386735334,\n        \"min\": 0.05951988794823942,\n        \"max\": 13611.0,\n        \"num_unique_values\": 8,\n        \"samples\": [\n          0.8732818313104205,\n          0.8831572891730107,\n          13611.0\n        ],\n        \"semantic_type\": \"\",\n        \"description\": \"\"\n      }\n    },\n    {\n      \"column\": \"Compactness\",\n      \"properties\": {\n        \"dtype\": \"number\",\n        \"std\": 4811.968352691061,\n        \"min\": 0.06171346312041536,\n        \"max\": 13611.0,\n        \"num_unique_values\": 8,\n        \"samples\": [\n          0.7998636818716444,\n          0.8012766840140727,\n          13611.0\n        ],\n        \"semantic_type\": \"\",\n        \"description\": \"\"\n      }\n    },\n    {\n      \"column\": \"ShapeFactor1\",\n      \"properties\": {\n        \"dtype\": \"number\",\n        \"std\": 4812.21314182148,\n        \"min\": 0.0011279982276085,\n        \"max\": 13611.0,\n        \"num_unique_values\": 8,\n        \"samples\": [\n          0.006563608510069212,\n          0.0066451744589910485,\n          13611.0\n        ],\n        \"semantic_type\": \"\",\n        \"description\": \"\"\n      }\n    },\n    {\n      \"column\": \"ShapeFactor2\",\n      \"properties\": {\n        \"dtype\": \"number\",\n        \"std\": 4812.214615583717,\n        \"min\": 0.0005641690180332927,\n        \"max\": 13611.0,\n        \"num_unique_values\": 8,\n        \"samples\": [\n          0.0017159473344485743,\n          0.001693530977356598,\n          13611.0\n        ],\n        \"semantic_type\": \"\",\n        \"description\": \"\"\n      }\n    },\n    {\n      \"column\": \"ShapeFactor3\",\n      \"properties\": {\n        \"dtype\": \"number\",\n        \"std\": 4812.010796374332,\n        \"min\": 0.09899615048070137,\n        \"max\": 13611.0,\n        \"num_unique_values\": 8,\n        \"samples\": [\n          0.6435901812933447,\n          0.642044324344588,\n          13611.0\n        ],\n        \"semantic_type\": \"\",\n        \"description\": \"\"\n      }\n    },\n    {\n      \"column\": \"ShapeFactor4\",\n      \"properties\": {\n        \"dtype\": \"number\",\n        \"std\": 4811.915457984911,\n        \"min\": 0.004366457748727995,\n        \"max\": 13611.0,\n        \"num_unique_values\": 8,\n        \"samples\": [\n          0.9950633118262984,\n          0.9963859376796506,\n          13611.0\n        ],\n        \"semantic_type\": \"\",\n        \"description\": \"\"\n      }\n    }\n  ]\n}"
            }
          },
          "metadata": {},
          "execution_count": 9
        }
      ],
      "source": [
        "df.describe()"
      ]
    },
    {
      "cell_type": "markdown",
      "source": [
        "O método `describe()` é utilizado para gerar estatísticas descritivas, como a média, desvio padrão, valores mínimo e máximo, e os quartis das colunas numéricas do DataFrame."
      ],
      "metadata": {
        "id": "Qp_Z9SSfkqML"
      },
      "id": "Qp_Z9SSfkqML"
    },
    {
      "cell_type": "markdown",
      "source": [
        "# Visualização dos Dados"
      ],
      "metadata": {
        "id": "SRw-fDHDkwyA"
      },
      "id": "SRw-fDHDkwyA"
    },
    {
      "cell_type": "markdown",
      "source": [
        "### Visualização da distribuição das classes de feijão no conjunto de dados"
      ],
      "metadata": {
        "id": "nVAQ7bqYkzMg"
      },
      "id": "nVAQ7bqYkzMg"
    },
    {
      "source": [
        "df.groupby('Class').size().plot(kind='barh', color=sns.palettes.mpl_palette('Dark2'))\n",
        "plt.gca().spines[['top', 'right',]].set_visible(False)"
      ],
      "cell_type": "code",
      "execution_count": 10,
      "outputs": [
        {
          "output_type": "display_data",
          "data": {
            "text/plain": [
              "<Figure size 640x480 with 1 Axes>"
            ],
            "image/png": "[encoded data removed]"
          },
          "metadata": {}
        }
      ],
      "metadata": {
        "id": "2eBWIR-Iqa9D",
        "outputId": "3a354189-4a88-476b-bf4b-109b3ecd3211",
        "colab": {
          "base_uri": "https://localhost:8080/",
          "height": 430
        }
      },
      "id": "2eBWIR-Iqa9D"
    },
    {
      "cell_type": "markdown",
      "source": [
        "Foi gerada uma visualização da distribuição das diferentes classes de feijão no conjunto de dados utilizando um gráfico de barras horizontais. Esse gráfico mostra o número de amostras de cada classe, facilitando a análise da representatividade das diferentes variedades de feijão presentes no dataset."
      ],
      "metadata": {
        "id": "E5lVIed_m6dH"
      },
      "id": "E5lVIed_m6dH"
    },
    {
      "cell_type": "markdown",
      "source": [
        "### Visualização da distribuição da feature \"Area\" no conjunto de dados com histograma"
      ],
      "metadata": {
        "id": "iL0bj7uJlcjy"
      },
      "id": "iL0bj7uJlcjy"
    },
    {
      "source": [
        "df['Area'].plot(kind='hist', bins=20, title='Area')\n",
        "plt.gca().spines[['top', 'right',]].set_visible(False)"
      ],
      "cell_type": "code",
      "execution_count": 11,
      "outputs": [
        {
          "output_type": "display_data",
          "data": {
            "text/plain": [
              "<Figure size 640x480 with 1 Axes>"
            ],
            "image/png": "[encoded data removed]"
          },
          "metadata": {}
        }
      ],
      "metadata": {
        "id": "ylTkFFN7qK2b",
        "outputId": "541b0565-5e35-4d96-c1b7-8b2ebed5f46c",
        "colab": {
          "base_uri": "https://localhost:8080/",
          "height": 452
        }
      },
      "id": "ylTkFFN7qK2b"
    },
    {
      "cell_type": "markdown",
      "source": [
        "A distribuição da feature \"Area\" foi visualizada por meio de um histograma, utilizando 20 bins. Esse gráfico permite observar a frequência das diferentes áreas dos grãos de feijão, oferecendo insights sobre a concentração de valores e possíveis variações entre os dados."
      ],
      "metadata": {
        "id": "tE2Sc4JZmuCs"
      },
      "id": "tE2Sc4JZmuCs"
    },
    {
      "cell_type": "markdown",
      "source": [
        "### Verificar dados ausentes"
      ],
      "metadata": {
        "id": "r0r_fSzzoLr2"
      },
      "id": "r0r_fSzzoLr2"
    },
    {
      "cell_type": "code",
      "source": [
        "missing_values = df.isnull().sum()\n",
        "\n",
        "print(missing_values)"
      ],
      "metadata": {
        "colab": {
          "base_uri": "https://localhost:8080/"
        },
        "id": "DETA5UVIieL3",
        "outputId": "1cfa80de-aab6-428d-84be-79bb545cf52b"
      },
      "id": "DETA5UVIieL3",
      "execution_count": 15,
      "outputs": [
        {
          "output_type": "stream",
          "name": "stdout",
          "text": [
            "Area               0\n",
            "Perimeter          0\n",
            "MajorAxisLength    0\n",
            "MinorAxisLength    0\n",
            "AspectRation       0\n",
            "Eccentricity       0\n",
            "ConvexArea         0\n",
            "EquivDiameter      0\n",
            "Extent             0\n",
            "Solidity           0\n",
            "roundness          0\n",
            "Compactness        0\n",
            "ShapeFactor1       0\n",
            "ShapeFactor2       0\n",
            "ShapeFactor3       0\n",
            "ShapeFactor4       0\n",
            "Class              0\n",
            "dtype: int64\n"
          ]
        }
      ]
    },
    {
      "cell_type": "markdown",
      "source": [
        "A verificação de dados ausentes revelou que o conjunto de dados está completo, sem valores ausentes em nenhuma das colunas. Todos os campos, incluindo as características e a classe, estão totalmente preenchidos.\n",
        "\n",
        "Foi utilizdo o método `isnull().sum()` para contar quantos valores ausentes existem em cada coluna do DataFrame. Como a saída mostra 0 para todas as colunas, significa que não há dados faltando no conjunto."
      ],
      "metadata": {
        "id": "06iLHzbjor6f"
      },
      "id": "06iLHzbjor6f"
    },
    {
      "cell_type": "markdown",
      "source": [
        "# Divisão dos dados"
      ],
      "metadata": {
        "id": "lvO-yX70lroR"
      },
      "id": "lvO-yX70lroR"
    },
    {
      "cell_type": "markdown",
      "source": [
        "### Definição de X (features) e y (target)"
      ],
      "metadata": {
        "id": "FHrWyJeKJhNs"
      },
      "id": "FHrWyJeKJhNs"
    },
    {
      "cell_type": "code",
      "source": [
        "X = df.iloc[:,:-1]\n",
        "y = df.iloc[:,-1]"
      ],
      "metadata": {
        "id": "d_e6YuU-JPJ2"
      },
      "id": "d_e6YuU-JPJ2",
      "execution_count": 12,
      "outputs": []
    },
    {
      "cell_type": "markdown",
      "source": [
        "As features (variáveis independentes) foram atribuídas à variável X, enquanto a variável-alvo (classe do grão) foi atribuída à variável y. A coluna \"Class\", que representa o tipo de feijão, foi separada das demais variáveis numéricas para posterior treinamento dos modelos de classificação."
      ],
      "metadata": {
        "id": "NoKLtd1GmVp5"
      },
      "id": "NoKLtd1GmVp5"
    },
    {
      "cell_type": "markdown",
      "source": [
        "### Split do dataset em treino e teste (80/20) com estratificação"
      ],
      "metadata": {
        "id": "-EjzcYLxKPri"
      },
      "id": "-EjzcYLxKPri"
    },
    {
      "cell_type": "code",
      "source": [
        "X_train, X_test, y_train, y_test = train_test_split(\n",
        "    X,y,\n",
        "    test_size=0.2,\n",
        "    random_state=42,\n",
        "    stratify=y\n",
        ")"
      ],
      "metadata": {
        "id": "gT14wck9J5EE"
      },
      "id": "gT14wck9J5EE",
      "execution_count": 13,
      "outputs": []
    },
    {
      "cell_type": "markdown",
      "source": [
        "O conjunto de dados foi dividido em 80% para treino e 20% para teste utilizando o train_test_split. O parâmetro stratify=y garante que a distribuição das classes seja proporcional nos dois conjuntos, mesmo para as classes com menos representatividade. A utilização de random_state=42 assegura a reprodutibilidade dos resultados."
      ],
      "metadata": {
        "id": "Ifntt5cemA1p"
      },
      "id": "Ifntt5cemA1p"
    },
    {
      "cell_type": "code",
      "source": [
        "print(\"Adicionei esses print pra gente visualizar melhor\")\n",
        "print(\"\\nDistribuição das classes no treino:\")\n",
        "print(y_train.value_counts(normalize=True))\n",
        "print(\"\\nDistribuição das classes no teste:\")\n",
        "print(y_test.value_counts(normalize=True))"
      ],
      "metadata": {
        "colab": {
          "base_uri": "https://localhost:8080/"
        },
        "id": "tQCjiM8QL9lU",
        "outputId": "32b9bb65-9601-49e2-dff1-f311724c55e3"
      },
      "id": "tQCjiM8QL9lU",
      "execution_count": 14,
      "outputs": [
        {
          "output_type": "stream",
          "name": "stdout",
          "text": [
            "Adicionei esses print pra gente visualizar melhor\n",
            "\n",
            "Distribuição das classes no treino:\n",
            "Class\n",
            "DERMASON    0.260562\n",
            "SIRA        0.193699\n",
            "SEKER       0.148880\n",
            "HOROZ       0.141624\n",
            "CALI        0.119765\n",
            "BARBUNYA    0.097079\n",
            "BOMBAY      0.038391\n",
            "Name: proportion, dtype: float64\n",
            "\n",
            "Distribuição das classes no teste:\n",
            "Class\n",
            "DERMASON    0.260375\n",
            "SIRA        0.193537\n",
            "SEKER       0.149100\n",
            "HOROZ       0.141755\n",
            "CALI        0.119721\n",
            "BARBUNYA    0.097319\n",
            "BOMBAY      0.038193\n",
            "Name: proportion, dtype: float64\n"
          ]
        }
      ]
    },
    {
      "cell_type": "markdown",
      "source": [
        "Note que, ao exibir a distribuição das classes nos conjuntos de treino e teste, podemos observar que as proporções de cada classe são muito semelhantes em ambos os conjuntos. Isso confirma que a estratificação foi realizada corretamente."
      ],
      "metadata": {
        "id": "015cPn3Inzmh"
      },
      "id": "015cPn3Inzmh"
    },
    {
      "cell_type": "markdown",
      "source": [
        "# Pré-processamento dos dados"
      ],
      "metadata": {
        "id": "SnoMjh_HLjNI"
      },
      "id": "SnoMjh_HLjNI"
    },
    {
      "cell_type": "markdown",
      "source": [
        "### Escalonamento de características"
      ],
      "metadata": {
        "id": "AHXlUKXf-BOc"
      },
      "id": "AHXlUKXf-BOc"
    },
    {
      "cell_type": "code",
      "source": [
        "scaler = StandardScaler()\n",
        "\n",
        "X_train_scaled = scaler.fit_transform(X_train)\n",
        "X_test_scaled = scaler.transform(X_test)\n",
        "\n",
        "print(\"Média do treino (após escalonamento):\", X_train_scaled.mean(axis=0))\n",
        "print(\"Desvio padrão do treino (após escalonamento):\", X_train_scaled.std(axis=0))"
      ],
      "metadata": {
        "id": "nEN8RbMM-rwK",
        "outputId": "06faff85-4e84-4d8d-d7d4-59f4d1d530ee",
        "colab": {
          "base_uri": "https://localhost:8080/"
        }
      },
      "id": "nEN8RbMM-rwK",
      "execution_count": 16,
      "outputs": [
        {
          "output_type": "stream",
          "name": "stdout",
          "text": [
            "Média do treino (após escalonamento): [ 1.18771839e-16  3.49136998e-16  2.13397754e-16 -2.74741451e-16\n",
            " -5.85375490e-16 -7.64185841e-16 -9.85414705e-17 -2.77351821e-16\n",
            " -4.48983654e-16  2.85535331e-14 -1.16030950e-15 -4.33974026e-16\n",
            "  5.78196973e-16 -8.06604355e-16  4.37236988e-17 -1.82660646e-14]\n",
            "Desvio padrão do treino (após escalonamento): [1. 1. 1. 1. 1. 1. 1. 1. 1. 1. 1. 1. 1. 1. 1. 1.]\n"
          ]
        }
      ]
    },
    {
      "cell_type": "markdown",
      "source": [
        "Após o escalonamento com o StandardScaler, as médias das colunas do conjunto de treino estão muito próximas de zero, o que indica que o escalonamento foi bem-sucedido. O objetivo do StandardScaler é centralizar os dados em torno de zero.\n",
        "\n",
        "Além disso, o desvio padrão de todas as variáveis é 1, como esperado, pois o StandardScaler também ajusta os dados para ter um desvio padrão de 1. Isso é importante para garantir que as variáveis tenham a mesma escala, evitando que variáveis com maior magnitude dominem o modelo."
      ],
      "metadata": {
        "id": "vjQ6xlofAJ4u"
      },
      "id": "vjQ6xlofAJ4u"
    },
    {
      "cell_type": "markdown",
      "source": [
        "# Treinamento"
      ],
      "metadata": {
        "id": "vwT5YgeAAOvN"
      },
      "id": "vwT5YgeAAOvN"
    },
    {
      "cell_type": "markdown",
      "source": [
        "### Definindo os modelos"
      ],
      "metadata": {
        "id": "yc9ftQIGAT1c"
      },
      "id": "yc9ftQIGAT1c"
    },
    {
      "cell_type": "code",
      "source": [
        "models = {\n",
        "    \"Random Forest\": {\n",
        "        \"model\": RandomForestClassifier(random_state=42),\n",
        "        \"params\": {\n",
        "            \"n_estimators\": [100, 200],\n",
        "            \"max_depth\": [None, 20]\n",
        "        }\n",
        "    },\n",
        "    \"DT\": {\n",
        "        \"model\": DecisionTreeClassifier(random_state=42),\n",
        "        \"params\": {\n",
        "            \"max_depth\": [None, 20],\n",
        "            \"min_samples_split\": [2, 12, 20]\n",
        "        }\n",
        "    },\n",
        "    \"OVR\": {\n",
        "        \"model\": OneVsRestClassifier(LogisticRegression(random_state=42, solver=\"saga\", max_iter=3000)),\n",
        "        \"params\": {\n",
        "            \"estimator__C\": [0.01, 0.1, 1],\n",
        "            \"estimator__penalty\": [\"l1\", \"l2\"]\n",
        "        }\n",
        "    },\n",
        "    \"KNN\": {\n",
        "        \"model\": KNeighborsClassifier(),\n",
        "        \"params\": {\n",
        "            \"n_neighbors\": [3, 5, 7],\n",
        "            \"weights\": [\"uniform\", \"distance\"]\n",
        "        }\n",
        "    }\n",
        "}"
      ],
      "metadata": {
        "id": "39uVLX7iATUb"
      },
      "id": "39uVLX7iATUb",
      "execution_count": 57,
      "outputs": []
    },
    {
      "cell_type": "code",
      "source": [
        "def train_and_evaluate_models(X_train, X_test, y_train, y_test, scaled=False):\n",
        "    results = []\n",
        "    kfold = StratifiedKFold(n_splits=5, shuffle=True, random_state=42)\n",
        "\n",
        "    for model_name, config in models.items():\n",
        "        print(f\"\\nTreinando {model_name} (Escalonado: {scaled})...\")\n",
        "\n",
        "        grid_search = GridSearchCV(\n",
        "            config[\"model\"],\n",
        "            config[\"params\"],\n",
        "            cv=kfold,\n",
        "            scoring=\"accuracy\",\n",
        "            n_jobs=-1\n",
        "        )\n",
        "        grid_search.fit(X_train, y_train)\n",
        "\n",
        "        best_model = grid_search.best_estimator_\n",
        "\n",
        "        cv_scores = cross_val_score(best_model, X_train, y_train, cv=kfold, scoring=\"accuracy\", n_jobs=-1)\n",
        "\n",
        "        y_pred = best_model.predict(X_test)\n",
        "\n",
        "        accuracy = accuracy_score(y_test, y_pred)\n",
        "        precision = precision_score(y_test, y_pred, average=\"weighted\")\n",
        "        recall = recall_score(y_test, y_pred, average=\"weighted\")\n",
        "        f1 = f1_score(y_test, y_pred, average=\"weighted\")\n",
        "\n",
        "        results.append({\n",
        "            \"Modelo\": model_name,\n",
        "            \"Melhores Parâmetros\": grid_search.best_params_,\n",
        "            \"Acurácia (Validação Cruzada)\": cv_scores.mean(),\n",
        "            \"Acurácia (Teste)\": accuracy,\n",
        "            \"Precisão\": precision,\n",
        "            \"Recall\": recall,\n",
        "            \"F1-Score\": f1,\n",
        "            \"Escalonado\": scaled\n",
        "        })\n",
        "\n",
        "        cm = confusion_matrix(y_test, y_pred)\n",
        "        plt.figure(figsize=(4, 4))\n",
        "        sns.heatmap(\n",
        "            cm, annot=True,\n",
        "            fmt=\"d\",\n",
        "            cmap=\"Blues\",\n",
        "            xticklabels=best_model.classes_,\n",
        "            yticklabels=best_model.classes_\n",
        "        )\n",
        "        plt.title(f\"Matriz de Confusão - {model_name} (Escalonado: {scaled})\")\n",
        "        plt.xlabel(\"Predito\")\n",
        "        plt.ylabel(\"Real\")\n",
        "        plt.show()\n",
        "\n",
        "    return pd.DataFrame(results)"
      ],
      "metadata": {
        "id": "o7tOYGjmAgtT"
      },
      "id": "o7tOYGjmAgtT",
      "execution_count": 49,
      "outputs": []
    },
    {
      "cell_type": "code",
      "source": [
        "# Dados NÃO escalonados\n",
        "results_no_scale = train_and_evaluate_models(X_train, X_test, y_train, y_test, scaled=False)\n",
        "\n",
        "# Dados Escalonados\n",
        "results_scaled = train_and_evaluate_models(X_train_scaled, X_test_scaled, y_train, y_test, scaled=True)\n",
        "\n",
        "# Combina resultados\n",
        "final_results = pd.concat([results_no_scale, results_scaled], ignore_index=True)"
      ],
      "metadata": {
        "id": "NFa3IXpsAjPU",
        "outputId": "ae2b25bf-c9c0-4366-aa25-614e1c52a267",
        "colab": {
          "base_uri": "https://localhost:8080/"
        }
      },
      "id": "NFa3IXpsAjPU",
      "execution_count": null,
      "outputs": [
        {
          "output_type": "stream",
          "name": "stdout",
          "text": [
            "\n",
            "Treinando Random Forest (Escalonado: False)...\n"
          ]
        }
      ]
    },
    {
      "cell_type": "code",
      "source": [
        "print(\"📊 Resultados dos Modelos:\")\n",
        "display(final_results.sort_values(by=\"Acurácia (Teste)\", ascending=False))\n",
        "\n",
        "# Configuração do estilo\n",
        "plt.style.use(\"seaborn-v0_8\")  # Ou outro estilo disponível\n",
        "\n",
        "# Gráfico de Acurácia (Teste)\n",
        "plt.figure(figsize=(8, 4))\n",
        "sns.barplot(\n",
        "    data=final_results,\n",
        "    x=\"Modelo\",\n",
        "    y=\"Acurácia (Teste)\",\n",
        "    hue=\"Escalonado\",\n",
        "    palette=\"viridis\"\n",
        ")\n",
        "plt.title(\"Comparação de Acurácia nos Dados de Teste\")\n",
        "plt.ylim(0.7, 1.0)\n",
        "plt.legend(title=\"Escalonado?\")\n",
        "plt.show()\n",
        "\n",
        "# Gráfico de Precisão\n",
        "plt.figure(figsize=(8, 4))\n",
        "sns.barplot(\n",
        "    data=final_results,\n",
        "    x=\"Modelo\",\n",
        "    y=\"Precisão\",\n",
        "    hue=\"Escalonado\",\n",
        "    palette=\"viridis\"\n",
        ")\n",
        "plt.title(\"Comparação de Precisão nos Dados de Teste\")\n",
        "plt.ylim(0.7, 1.0)\n",
        "plt.legend(title=\"Escalonado?\")\n",
        "plt.show()\n",
        "\n",
        "# Gráfico de Recall\n",
        "plt.figure(figsize=(8, 4))\n",
        "sns.barplot(\n",
        "    data=final_results,\n",
        "    x=\"Modelo\",\n",
        "    y=\"Recall\",\n",
        "    hue=\"Escalonado\",\n",
        "    palette=\"viridis\"\n",
        ")\n",
        "plt.title(\"Comparação de Recall nos Dados de Teste\")\n",
        "plt.ylim(0.7, 1.0)\n",
        "plt.legend(title=\"Escalonado?\")\n",
        "plt.show()\n",
        "\n",
        "# Gráfico de F1-Score\n",
        "plt.figure(figsize=(8, 4))\n",
        "sns.barplot(\n",
        "    data=final_results,\n",
        "    x=\"Modelo\",\n",
        "    y=\"F1-Score\",\n",
        "    hue=\"Escalonado\",\n",
        "    palette=\"viridis\"\n",
        ")\n",
        "plt.title(\"Comparação de F1-Score nos Dados de Teste\")\n",
        "plt.ylim(0.7, 1.0)\n",
        "plt.legend(title=\"Escalonado?\")\n",
        "plt.show()"
      ],
      "metadata": {
        "id": "W-b8I5a2AqTS",
        "outputId": "1a1753f4-5e6a-4c63-d568-aab263f91185",
        "colab": {
          "base_uri": "https://localhost:8080/",
          "height": 1000
        }
      },
      "id": "W-b8I5a2AqTS",
      "execution_count": 46,
      "outputs": [
        {
          "output_type": "stream",
          "name": "stdout",
          "text": [
            "📊 Resultados dos Modelos:\n"
          ]
        },
        {
          "output_type": "display_data",
          "data": {
            "text/plain": [
              "          Modelo                         Melhores Parâmetros  \\\n",
              "0  Random Forest    {'max_depth': None, 'n_estimators': 200}   \n",
              "3  Random Forest    {'max_depth': None, 'n_estimators': 200}   \n",
              "5            KNN   {'n_neighbors': 7, 'weights': 'distance'}   \n",
              "1             DT  {'max_depth': 20, 'min_samples_split': 20}   \n",
              "4             DT  {'max_depth': 20, 'min_samples_split': 20}   \n",
              "2            KNN   {'n_neighbors': 5, 'weights': 'distance'}   \n",
              "\n",
              "   Acurácia (Validação Cruzada)  Acurácia (Teste)  Precisão    Recall  \\\n",
              "0                      0.925330          0.919941  0.919940  0.919941   \n",
              "3                      0.925330          0.919941  0.919940  0.919941   \n",
              "5                      0.925423          0.916636  0.917321  0.916636   \n",
              "1                      0.902002          0.901946  0.901747  0.901946   \n",
              "4                      0.902094          0.901946  0.901747  0.901946   \n",
              "2                      0.733467          0.744767  0.745520  0.744767   \n",
              "\n",
              "   F1-Score  Escalonado  \n",
              "0  0.919847       False  \n",
              "3  0.919847        True  \n",
              "5  0.916787        True  \n",
              "1  0.901592       False  \n",
              "4  0.901592        True  \n",
              "2  0.742335       False  "
            ],
            "text/html": [
              "\n",
              "  <div id=\"df-06affe36-49e7-4245-b067-0d35fab9b266\" class=\"colab-df-container\">\n",
              "    <div>\n",
              "<style scoped>\n",
              "    .dataframe tbody tr th:only-of-type {\n",
              "        vertical-align: middle;\n",
              "    }\n",
              "\n",
              "    .dataframe tbody tr th {\n",
              "        vertical-align: top;\n",
              "    }\n",
              "\n",
              "    .dataframe thead th {\n",
              "        text-align: right;\n",
              "    }\n",
              "</style>\n",
              "<table border=\"1\" class=\"dataframe\">\n",
              "  <thead>\n",
              "    <tr style=\"text-align: right;\">\n",
              "      <th></th>\n",
              "      <th>Modelo</th>\n",
              "      <th>Melhores Parâmetros</th>\n",
              "      <th>Acurácia (Validação Cruzada)</th>\n",
              "      <th>Acurácia (Teste)</th>\n",
              "      <th>Precisão</th>\n",
              "      <th>Recall</th>\n",
              "      <th>F1-Score</th>\n",
              "      <th>Escalonado</th>\n",
              "    </tr>\n",
              "  </thead>\n",
              "  <tbody>\n",
              "    <tr>\n",
              "      <th>0</th>\n",
              "      <td>Random Forest</td>\n",
              "      <td>{'max_depth': None, 'n_estimators': 200}</td>\n",
              "      <td>0.925330</td>\n",
              "      <td>0.919941</td>\n",
              "      <td>0.919940</td>\n",
              "      <td>0.919941</td>\n",
              "      <td>0.919847</td>\n",
              "      <td>False</td>\n",
              "    </tr>\n",
              "    <tr>\n",
              "      <th>3</th>\n",
              "      <td>Random Forest</td>\n",
              "      <td>{'max_depth': None, 'n_estimators': 200}</td>\n",
              "      <td>0.925330</td>\n",
              "      <td>0.919941</td>\n",
              "      <td>0.919940</td>\n",
              "      <td>0.919941</td>\n",
              "      <td>0.919847</td>\n",
              "      <td>True</td>\n",
              "    </tr>\n",
              "    <tr>\n",
              "      <th>5</th>\n",
              "      <td>KNN</td>\n",
              "      <td>{'n_neighbors': 7, 'weights': 'distance'}</td>\n",
              "      <td>0.925423</td>\n",
              "      <td>0.916636</td>\n",
              "      <td>0.917321</td>\n",
              "      <td>0.916636</td>\n",
              "      <td>0.916787</td>\n",
              "      <td>True</td>\n",
              "    </tr>\n",
              "    <tr>\n",
              "      <th>1</th>\n",
              "      <td>DT</td>\n",
              "      <td>{'max_depth': 20, 'min_samples_split': 20}</td>\n",
              "      <td>0.902002</td>\n",
              "      <td>0.901946</td>\n",
              "      <td>0.901747</td>\n",
              "      <td>0.901946</td>\n",
              "      <td>0.901592</td>\n",
              "      <td>False</td>\n",
              "    </tr>\n",
              "    <tr>\n",
              "      <th>4</th>\n",
              "      <td>DT</td>\n",
              "      <td>{'max_depth': 20, 'min_samples_split': 20}</td>\n",
              "      <td>0.902094</td>\n",
              "      <td>0.901946</td>\n",
              "      <td>0.901747</td>\n",
              "      <td>0.901946</td>\n",
              "      <td>0.901592</td>\n",
              "      <td>True</td>\n",
              "    </tr>\n",
              "    <tr>\n",
              "      <th>2</th>\n",
              "      <td>KNN</td>\n",
              "      <td>{'n_neighbors': 5, 'weights': 'distance'}</td>\n",
              "      <td>0.733467</td>\n",
              "      <td>0.744767</td>\n",
              "      <td>0.745520</td>\n",
              "      <td>0.744767</td>\n",
              "      <td>0.742335</td>\n",
              "      <td>False</td>\n",
              "    </tr>\n",
              "  </tbody>\n",
              "</table>\n",
              "</div>\n",
              "    <div class=\"colab-df-buttons\">\n",
              "\n",
              "  <div class=\"colab-df-container\">\n",
              "    <button class=\"colab-df-convert\" onclick=\"convertToInteractive('df-06affe36-49e7-4245-b067-0d35fab9b266')\"\n",
              "            title=\"Convert this dataframe to an interactive table.\"\n",
              "            style=\"display:none;\">\n",
              "\n",
              "  <svg xmlns=\"http://www.w3.org/2000/svg\" height=\"24px\" viewBox=\"0 -960 960 960\">\n",
              "    <path d=\"M120-120v-720h720v720H120Zm60-500h600v-160H180v160Zm220 220h160v-160H400v160Zm0 220h160v-160H400v160ZM180-400h160v-160H180v160Zm440 0h160v-160H620v160ZM180-180h160v-160H180v160Zm440 0h160v-160H620v160Z\"/>\n",
              "  </svg>\n",
              "    </button>\n",
              "\n",
              "  <style>\n",
              "    .colab-df-container {\n",
              "      display:flex;\n",
              "      gap: 12px;\n",
              "    }\n",
              "\n",
              "    .colab-df-convert {\n",
              "      background-color: #E8F0FE;\n",
              "      border: none;\n",
              "      border-radius: 50%;\n",
              "      cursor: pointer;\n",
              "      display: none;\n",
              "      fill: #1967D2;\n",
              "      height: 32px;\n",
              "      padding: 0 0 0 0;\n",
              "      width: 32px;\n",
              "    }\n",
              "\n",
              "    .colab-df-convert:hover {\n",
              "      background-color: #E2EBFA;\n",
              "      box-shadow: 0px 1px 2px rgba(60, 64, 67, 0.3), 0px 1px 3px 1px rgba(60, 64, 67, 0.15);\n",
              "      fill: #174EA6;\n",
              "    }\n",
              "\n",
              "    .colab-df-buttons div {\n",
              "      margin-bottom: 4px;\n",
              "    }\n",
              "\n",
              "    [theme=dark] .colab-df-convert {\n",
              "      background-color: #3B4455;\n",
              "      fill: #D2E3FC;\n",
              "    }\n",
              "\n",
              "    [theme=dark] .colab-df-convert:hover {\n",
              "      background-color: #434B5C;\n",
              "      box-shadow: 0px 1px 3px 1px rgba(0, 0, 0, 0.15);\n",
              "      filter: drop-shadow(0px 1px 2px rgba(0, 0, 0, 0.3));\n",
              "      fill: #FFFFFF;\n",
              "    }\n",
              "  </style>\n",
              "\n",
              "    <script>\n",
              "      const buttonEl =\n",
              "        document.querySelector('#df-06affe36-49e7-4245-b067-0d35fab9b266 button.colab-df-convert');\n",
              "      buttonEl.style.display =\n",
              "        google.colab.kernel.accessAllowed ? 'block' : 'none';\n",
              "\n",
              "      async function convertToInteractive(key) {\n",
              "        const element = document.querySelector('#df-06affe36-49e7-4245-b067-0d35fab9b266');\n",
              "        const dataTable =\n",
              "          await google.colab.kernel.invokeFunction('convertToInteractive',\n",
              "                                                    [key], {});\n",
              "        if (!dataTable) return;\n",
              "\n",
              "        const docLinkHtml = 'Like what you see? Visit the ' +\n",
              "          '<a target=\"_blank\" href=https://colab.research.google.com/notebooks/data_table.ipynb>data table notebook</a>'\n",
              "          + ' to learn more about interactive tables.';\n",
              "        element.innerHTML = '';\n",
              "        dataTable['output_type'] = 'display_data';\n",
              "        await google.colab.output.renderOutput(dataTable, element);\n",
              "        const docLink = document.createElement('div');\n",
              "        docLink.innerHTML = docLinkHtml;\n",
              "        element.appendChild(docLink);\n",
              "      }\n",
              "    </script>\n",
              "  </div>\n",
              "\n",
              "\n",
              "    <div id=\"df-b22d0d8b-3df6-4f7b-9ded-dc4218218e05\">\n",
              "      <button class=\"colab-df-quickchart\" onclick=\"quickchart('df-b22d0d8b-3df6-4f7b-9ded-dc4218218e05')\"\n",
              "                title=\"Suggest charts\"\n",
              "                style=\"display:none;\">\n",
              "\n",
              "<svg xmlns=\"http://www.w3.org/2000/svg\" height=\"24px\"viewBox=\"0 0 24 24\"\n",
              "     width=\"24px\">\n",
              "    <g>\n",
              "        <path d=\"M19 3H5c-1.1 0-2 .9-2 2v14c0 1.1.9 2 2 2h14c1.1 0 2-.9 2-2V5c0-1.1-.9-2-2-2zM9 17H7v-7h2v7zm4 0h-2V7h2v10zm4 0h-2v-4h2v4z\"/>\n",
              "    </g>\n",
              "</svg>\n",
              "      </button>\n",
              "\n",
              "<style>\n",
              "  .colab-df-quickchart {\n",
              "      --bg-color: #E8F0FE;\n",
              "      --fill-color: #1967D2;\n",
              "      --hover-bg-color: #E2EBFA;\n",
              "      --hover-fill-color: #174EA6;\n",
              "      --disabled-fill-color: #AAA;\n",
              "      --disabled-bg-color: #DDD;\n",
              "  }\n",
              "\n",
              "  [theme=dark] .colab-df-quickchart {\n",
              "      --bg-color: #3B4455;\n",
              "      --fill-color: #D2E3FC;\n",
              "      --hover-bg-color: #434B5C;\n",
              "      --hover-fill-color: #FFFFFF;\n",
              "      --disabled-bg-color: #3B4455;\n",
              "      --disabled-fill-color: #666;\n",
              "  }\n",
              "\n",
              "  .colab-df-quickchart {\n",
              "    background-color: var(--bg-color);\n",
              "    border: none;\n",
              "    border-radius: 50%;\n",
              "    cursor: pointer;\n",
              "    display: none;\n",
              "    fill: var(--fill-color);\n",
              "    height: 32px;\n",
              "    padding: 0;\n",
              "    width: 32px;\n",
              "  }\n",
              "\n",
              "  .colab-df-quickchart:hover {\n",
              "    background-color: var(--hover-bg-color);\n",
              "    box-shadow: 0 1px 2px rgba(60, 64, 67, 0.3), 0 1px 3px 1px rgba(60, 64, 67, 0.15);\n",
              "    fill: var(--button-hover-fill-color);\n",
              "  }\n",
              "\n",
              "  .colab-df-quickchart-complete:disabled,\n",
              "  .colab-df-quickchart-complete:disabled:hover {\n",
              "    background-color: var(--disabled-bg-color);\n",
              "    fill: var(--disabled-fill-color);\n",
              "    box-shadow: none;\n",
              "  }\n",
              "\n",
              "  .colab-df-spinner {\n",
              "    border: 2px solid var(--fill-color);\n",
              "    border-color: transparent;\n",
              "    border-bottom-color: var(--fill-color);\n",
              "    animation:\n",
              "      spin 1s steps(1) infinite;\n",
              "  }\n",
              "\n",
              "  @keyframes spin {\n",
              "    0% {\n",
              "      border-color: transparent;\n",
              "      border-bottom-color: var(--fill-color);\n",
              "      border-left-color: var(--fill-color);\n",
              "    }\n",
              "    20% {\n",
              "      border-color: transparent;\n",
              "      border-left-color: var(--fill-color);\n",
              "      border-top-color: var(--fill-color);\n",
              "    }\n",
              "    30% {\n",
              "      border-color: transparent;\n",
              "      border-left-color: var(--fill-color);\n",
              "      border-top-color: var(--fill-color);\n",
              "      border-right-color: var(--fill-color);\n",
              "    }\n",
              "    40% {\n",
              "      border-color: transparent;\n",
              "      border-right-color: var(--fill-color);\n",
              "      border-top-color: var(--fill-color);\n",
              "    }\n",
              "    60% {\n",
              "      border-color: transparent;\n",
              "      border-right-color: var(--fill-color);\n",
              "    }\n",
              "    80% {\n",
              "      border-color: transparent;\n",
              "      border-right-color: var(--fill-color);\n",
              "      border-bottom-color: var(--fill-color);\n",
              "    }\n",
              "    90% {\n",
              "      border-color: transparent;\n",
              "      border-bottom-color: var(--fill-color);\n",
              "    }\n",
              "  }\n",
              "</style>\n",
              "\n",
              "      <script>\n",
              "        async function quickchart(key) {\n",
              "          const quickchartButtonEl =\n",
              "            document.querySelector('#' + key + ' button');\n",
              "          quickchartButtonEl.disabled = true;  // To prevent multiple clicks.\n",
              "          quickchartButtonEl.classList.add('colab-df-spinner');\n",
              "          try {\n",
              "            const charts = await google.colab.kernel.invokeFunction(\n",
              "                'suggestCharts', [key], {});\n",
              "          } catch (error) {\n",
              "            console.error('Error during call to suggestCharts:', error);\n",
              "          }\n",
              "          quickchartButtonEl.classList.remove('colab-df-spinner');\n",
              "          quickchartButtonEl.classList.add('colab-df-quickchart-complete');\n",
              "        }\n",
              "        (() => {\n",
              "          let quickchartButtonEl =\n",
              "            document.querySelector('#df-b22d0d8b-3df6-4f7b-9ded-dc4218218e05 button');\n",
              "          quickchartButtonEl.style.display =\n",
              "            google.colab.kernel.accessAllowed ? 'block' : 'none';\n",
              "        })();\n",
              "      </script>\n",
              "    </div>\n",
              "\n",
              "    </div>\n",
              "  </div>\n"
            ],
            "application/vnd.google.colaboratory.intrinsic+json": {
              "type": "dataframe",
              "summary": "{\n  \"name\": \"plt\",\n  \"rows\": 6,\n  \"fields\": [\n    {\n      \"column\": \"Modelo\",\n      \"properties\": {\n        \"dtype\": \"string\",\n        \"num_unique_values\": 3,\n        \"samples\": [\n          \"Random Forest\",\n          \"KNN\",\n          \"DT\"\n        ],\n        \"semantic_type\": \"\",\n        \"description\": \"\"\n      }\n    },\n    {\n      \"column\": \"Melhores Par\\u00e2metros\",\n      \"properties\": {\n        \"dtype\": \"object\",\n        \"semantic_type\": \"\",\n        \"description\": \"\"\n      }\n    },\n    {\n      \"column\": \"Acur\\u00e1cia (Valida\\u00e7\\u00e3o Cruzada)\",\n      \"properties\": {\n        \"dtype\": \"number\",\n        \"std\": 0.07540313493323132,\n        \"min\": 0.7334672992083107,\n        \"max\": 0.9254225134377135,\n        \"num_unique_values\": 5,\n        \"samples\": [\n          0.9254225134377135,\n          0.7334672992083107,\n          0.9020021065037142\n        ],\n        \"semantic_type\": \"\",\n        \"description\": \"\"\n      }\n    },\n    {\n      \"column\": \"Acur\\u00e1cia (Teste)\",\n      \"properties\": {\n        \"dtype\": \"number\",\n        \"std\": 0.06881635831552273,\n        \"min\": 0.7447668013220713,\n        \"max\": 0.9199412412780023,\n        \"num_unique_values\": 4,\n        \"samples\": [\n          0.9166360631656262,\n          0.7447668013220713,\n          0.9199412412780023\n        ],\n        \"semantic_type\": \"\",\n        \"description\": \"\"\n      }\n    },\n    {\n      \"column\": \"Precis\\u00e3o\",\n      \"properties\": {\n        \"dtype\": \"number\",\n        \"std\": 0.06855569966384939,\n        \"min\": 0.7455202794228931,\n        \"max\": 0.9199402718606787,\n        \"num_unique_values\": 4,\n        \"samples\": [\n          0.9173211930731834,\n          0.7455202794228931,\n          0.9199402718606787\n        ],\n        \"semantic_type\": \"\",\n        \"description\": \"\"\n      }\n    },\n    {\n      \"column\": \"Recall\",\n      \"properties\": {\n        \"dtype\": \"number\",\n        \"std\": 0.06881635831552273,\n        \"min\": 0.7447668013220713,\n        \"max\": 0.9199412412780023,\n        \"num_unique_values\": 4,\n        \"samples\": [\n          0.9166360631656262,\n          0.7447668013220713,\n          0.9199412412780023\n        ],\n        \"semantic_type\": \"\",\n        \"description\": \"\"\n      }\n    },\n    {\n      \"column\": \"F1-Score\",\n      \"properties\": {\n        \"dtype\": \"number\",\n        \"std\": 0.06975992178823635,\n        \"min\": 0.7423351574157093,\n        \"max\": 0.9198470961901003,\n        \"num_unique_values\": 4,\n        \"samples\": [\n          0.9167872918529542,\n          0.7423351574157093,\n          0.9198470961901003\n        ],\n        \"semantic_type\": \"\",\n        \"description\": \"\"\n      }\n    },\n    {\n      \"column\": \"Escalonado\",\n      \"properties\": {\n        \"dtype\": \"boolean\",\n        \"num_unique_values\": 2,\n        \"samples\": [\n          true,\n          false\n        ],\n        \"semantic_type\": \"\",\n        \"description\": \"\"\n      }\n    }\n  ]\n}"
            }
          },
          "metadata": {}
        },
        {
          "output_type": "display_data",
          "data": {
            "text/plain": [
              "<Figure size 800x400 with 1 Axes>"
            ],
            "image/png": "[encoded data removed]"
          },
          "metadata": {}
        },
        {
          "output_type": "display_data",
          "data": {
            "text/plain": [
              "<Figure size 800x400 with 1 Axes>"
            ],
            "image/png": "[encoded data removed]"
          },
          "metadata": {}
        },
        {
          "output_type": "display_data",
          "data": {
            "text/plain": [
              "<Figure size 800x400 with 1 Axes>"
            ],
            "image/png": "[encoded data removed]"
          },
          "metadata": {}
        },
        {
          "output_type": "display_data",
          "data": {
            "text/plain": [
              "<Figure size 800x400 with 1 Axes>"
            ],
            "image/png": "[encoded data removed]"
          },
          "metadata": {}
        }
      ]
    },
    {
      "cell_type": "code",
      "source": [
        "import joblib\n",
        "best_model = ...  # Definir o melhor modelo\n",
        "joblib.dump(best_model, \"melhor_modelo.pkl\")"
      ],
      "metadata": {
        "id": "pG58E__VAzG7",
        "colab": {
          "base_uri": "https://localhost:8080/"
        },
        "outputId": "eae2972b-da9f-4cfb-ebb6-de28e3f8653c"
      },
      "id": "pG58E__VAzG7",
      "execution_count": 45,
      "outputs": [
        {
          "output_type": "execute_result",
          "data": {
            "text/plain": [
              "['melhor_modelo.pkl']"
            ]
          },
          "metadata": {},
          "execution_count": 45
        }
      ]
    }
  ],
  "metadata": {
    "kernelspec": {
      "display_name": "Python 3",
      "language": "python",
      "name": "python3"
    },
    "language_info": {
      "codemirror_mode": {
        "name": "ipython",
        "version": 3
      },
      "file_extension": ".py",
      "mimetype": "text/x-python",
      "name": "python",
      "nbconvert_exporter": "python",
      "pygments_lexer": "ipython3",
      "version": "3.13.2"
    },
    "colab": {
      "provenance": [],
      "include_colab_link": true
    }
  },
  "nbformat": 4,
  "nbformat_minor": 5
}